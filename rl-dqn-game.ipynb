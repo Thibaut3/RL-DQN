{
 "cells": [
  {
   "cell_type": "code",
   "execution_count": 28,
   "metadata": {
    "execution": {
     "iopub.execute_input": "2025-05-02T08:32:36.449407Z",
     "iopub.status.busy": "2025-05-02T08:32:36.449085Z",
     "iopub.status.idle": "2025-05-02T08:32:36.455312Z",
     "shell.execute_reply": "2025-05-02T08:32:36.454414Z",
     "shell.execute_reply.started": "2025-05-02T08:32:36.449386Z"
    },
    "trusted": true
   },
   "outputs": [],
   "source": [
    "import numpy as np\n",
    "import matplotlib.pyplot as plt\n",
    "import matplotlib.patches as patches\n",
    "from io import BytesIO\n",
    "from PIL import Image\n",
    "from moviepy.editor import ImageSequenceClip\n",
    "import IPython.display as display\n",
    "from tempfile import NamedTemporaryFile\n",
    "import os\n",
    "from tqdm import tqdm\n",
    "import random\n",
    "\n",
    "import torch\n",
    "import torch.nn as nn\n",
    "import torch.optim as optim\n",
    "import torch.nn.functional as F\n",
    "from collections import deque, namedtuple\n",
    "\n",
    "import torch.onnx"
   ]
  },
  {
   "cell_type": "markdown",
   "metadata": {},
   "source": [
    "# Setup"
   ]
  },
  {
   "cell_type": "code",
   "execution_count": 29,
   "metadata": {
    "execution": {
     "iopub.execute_input": "2025-05-02T08:32:36.461589Z",
     "iopub.status.busy": "2025-05-02T08:32:36.460815Z",
     "iopub.status.idle": "2025-05-02T08:32:36.473985Z",
     "shell.execute_reply": "2025-05-02T08:32:36.473090Z",
     "shell.execute_reply.started": "2025-05-02T08:32:36.461557Z"
    },
    "trusted": true
   },
   "outputs": [],
   "source": [
    "device = torch.device('cuda' if torch.cuda.is_available() else 'cpu')"
   ]
  },
  {
   "cell_type": "code",
   "execution_count": null,
   "metadata": {
    "execution": {
     "iopub.execute_input": "2025-05-02T08:32:36.475866Z",
     "iopub.status.busy": "2025-05-02T08:32:36.475526Z",
     "iopub.status.idle": "2025-05-02T08:32:36.490822Z",
     "shell.execute_reply": "2025-05-02T08:32:36.489890Z",
     "shell.execute_reply.started": "2025-05-02T08:32:36.475836Z"
    },
    "trusted": true
   },
   "outputs": [],
   "source": [
    "def create_video_from_images(images, fps=5, output_file=\"gridworld_animation.mp4\"):\n",
    "\n",
    "    # Création d'un dossier temporaire pour stocker les images\n",
    "    temp_files = []\n",
    "    for i, img in enumerate(images):\n",
    "        temp_file = f\"temp_frame_{i}.png\"\n",
    "        img.save(temp_file)\n",
    "        temp_files.append(temp_file)\n",
    "    \n",
    "    # Création de la vidéo\n",
    "    clip = ImageSequenceClip(temp_files, fps=fps)\n",
    "    clip.write_videofile(output_file, codec=\"libx264\", audio=False)\n",
    "    \n",
    "    # Petit nettoyage\n",
    "    for file in temp_files:\n",
    "        os.remove(file)\n",
    "\n",
    "    return display.HTML(f\"\"\"\n",
    "    <video width=\"500\" height=\"500\" controls>\n",
    "        <source src=\"{output_file}\" type=\"video/mp4\">\n",
    "    </video>\n",
    "    \"\"\")"
   ]
  },
  {
   "cell_type": "code",
   "execution_count": null,
   "metadata": {
    "execution": {
     "iopub.execute_input": "2025-05-02T08:32:36.491810Z",
     "iopub.status.busy": "2025-05-02T08:32:36.491586Z",
     "iopub.status.idle": "2025-05-02T08:32:36.505860Z",
     "shell.execute_reply": "2025-05-02T08:32:36.504913Z",
     "shell.execute_reply.started": "2025-05-02T08:32:36.491794Z"
    },
    "trusted": true
   },
   "outputs": [],
   "source": [
    "def export_model_to_onnx(agent, filename=\"dqn_model.onnx\", input_size=None):\n",
    "    if input_size is None:\n",
    "        input_size = agent.state_size\n",
    "    \n",
    "    # Modèle à exporter (policy)\n",
    "    model = agent.policy_net\n",
    "    model.eval() \n",
    "    \n",
    "    # Créer un exemple d'entrée pour tracer le modèle\n",
    "    dummy_input = torch.randn(1, input_size, device=device)\n",
    "    \n",
    "    # Exporter au format ONNX\n",
    "    torch.onnx.export(\n",
    "        model,               # modèle à exporter\n",
    "        dummy_input,         # exemple d'entrée pour tracer le modèle\n",
    "        filename,            # nom du fichier à créer\n",
    "        export_params=True,  # exporter les paramètres du modèle\n",
    "        opset_version=11,    # version ONNX à utiliser\n",
    "        do_constant_folding=True,  # optimisation des calculs constants\n",
    "        input_names=['input'],     # nom de l'entrée\n",
    "        output_names=['output'],   # nom de la sortie\n",
    "        dynamic_axes={'input': {0: 'batch_size'},  # dimensions dynamiques\n",
    "                      'output': {0: 'batch_size'}}\n",
    "    )\n",
    "    \n",
    "    print(f\"Modèle exporté avec succès dans {filename}\")\n",
    "    \n",
    "    try:\n",
    "        import onnx\n",
    "        onnx_model = onnx.load(filename)\n",
    "        onnx.checker.check_model(onnx_model)\n",
    "        print(\"Vérification du modèle ONNX réussie!\")\n",
    "    except ImportError:\n",
    "        print(\"La bibliothèque onnx n'est pas installée. Installez-la pour vérifier le modèle: pip install onnx\")"
   ]
  },
  {
   "cell_type": "markdown",
   "metadata": {},
   "source": [
    "# Grid"
   ]
  },
  {
   "cell_type": "code",
   "execution_count": null,
   "metadata": {
    "execution": {
     "iopub.execute_input": "2025-05-02T08:32:36.575896Z",
     "iopub.status.busy": "2025-05-02T08:32:36.575586Z",
     "iopub.status.idle": "2025-05-02T08:32:36.620526Z",
     "shell.execute_reply": "2025-05-02T08:32:36.619396Z",
     "shell.execute_reply.started": "2025-05-02T08:32:36.575873Z"
    },
    "trusted": true
   },
   "outputs": [],
   "source": [
    "class GridWorld:\n",
    "    def __init__(self, rows, cols, start, terminal_states, walls, rewards, tower_penalty, tower_timer, \n",
    "                 num_towers=1, retour=True, step_cost=-0.01, broken=False, tower_destroy_reward=0.0):\n",
    "        self.rows = rows\n",
    "        self.cols = cols\n",
    "        self.start = start\n",
    "        self.terminal_states = terminal_states\n",
    "        self.walls = walls\n",
    "        self.rewards = rewards\n",
    "        self.step_cost = step_cost\n",
    "        self.action_space = 5  # up, down, left, right, wait\n",
    "        self.retour = retour\n",
    "        \n",
    "        # Nombre de tours (limité à 3 maximum)\n",
    "        self.num_towers = min(3, max(1, num_towers)) \n",
    "        \n",
    "        # Paramètre pour la destruction de tour\n",
    "        self.broken = broken\n",
    "        self.tower_destroy_reward = tower_destroy_reward  # Récompense pour détruire une tour\n",
    "        \n",
    "        # Gestion des tours\n",
    "        self.tower_positions = []\n",
    "        self.tower_cells = []\n",
    "        self.tower_destroyed = [False] * self.num_towers  # État de destruction pour chaque tour\n",
    "        self.tower_penalty = tower_penalty  # Pénalité pour passer dans une case de la tour\n",
    "        self.tower_timer = tower_timer  # Les tours disparaissent après ce nombre de pas\n",
    "        \n",
    "        self.reset()\n",
    "        \n",
    "        # Pour détecter les boucles\n",
    "        self.position_history = []\n",
    "        self.max_history_length = 30  # Augmenté pour mieux détecter les boucles\n",
    "        self.steps_count = 0  # Compteur de pas pour gérer la disparition des tours\n",
    "\n",
    "    def generate_tower_positions(self):\n",
    "        valid_positions = []\n",
    "        for i in range(1, self.rows-1):  # Éviter les bords pour que les tours ne sortent pas de la grille\n",
    "            for j in range(1, self.cols-1):\n",
    "                pos = (i, j)\n",
    "                \n",
    "                # Vérifier si la position est valide (pas sur un mur, départ ou arrivée)\n",
    "                if pos in self.walls or pos == self.start or pos in self.terminal_states:\n",
    "                    continue\n",
    "                \n",
    "                # Vérifier que les tours ne se chevauchent pas\n",
    "                tower_cells = self.get_tower_cells(pos)\n",
    "                valid = True\n",
    "                \n",
    "                # Vérifier que la tour ne chevauche pas les murs, le départ ou l'arrivée\n",
    "                for cell in tower_cells:\n",
    "                    if cell in self.walls or cell == self.start or cell in self.terminal_states:\n",
    "                        valid = False\n",
    "                        break\n",
    "                \n",
    "                if valid:\n",
    "                    valid_positions.append(pos)\n",
    "        \n",
    "        # Sélectionner les positions pour les tours\n",
    "        tower_positions = []\n",
    "        if valid_positions:\n",
    "            random.shuffle(valid_positions)\n",
    "            \n",
    "            # Sélectionner les positions pour chaque tour\n",
    "            for _ in range(self.num_towers):\n",
    "                if not valid_positions:\n",
    "                    break\n",
    "                \n",
    "                # Prendre la première position valide\n",
    "                tower_pos = valid_positions.pop(0)\n",
    "                tower_positions.append(tower_pos)\n",
    "                \n",
    "                # Retirer les positions qui chevaucheraient cette tour\n",
    "                new_valid_positions = []\n",
    "                for pos in valid_positions:\n",
    "                    # Vérifier si les cellules de cette tour chevaucheraient une tour existante\n",
    "                    cells = self.get_tower_cells(pos)\n",
    "                    overlaps = False\n",
    "                    for cell in cells:\n",
    "                        for existing_tower_pos in tower_positions:\n",
    "                            existing_cells = self.get_tower_cells(existing_tower_pos)\n",
    "                            if cell in existing_cells:\n",
    "                                overlaps = True\n",
    "                                break\n",
    "                        if overlaps:\n",
    "                            break\n",
    "                    \n",
    "                    if not overlaps:\n",
    "                        new_valid_positions.append(pos)\n",
    "                \n",
    "                valid_positions = new_valid_positions\n",
    "        \n",
    "        # Si on n'a pas assez de positions valides, utiliser des positions par défaut\n",
    "        if len(tower_positions) < self.num_towers:\n",
    "            default_positions = [(self.rows // 3, self.cols // 3), \n",
    "                                (self.rows // 3, 2 * self.cols // 3), \n",
    "                                (2 * self.rows // 3, self.cols // 3)]\n",
    "            \n",
    "            for i in range(len(tower_positions), self.num_towers):\n",
    "                if i < len(default_positions):\n",
    "                    tower_positions.append(default_positions[i])\n",
    "                else:\n",
    "                    # En dernier recours, placer au milieu\n",
    "                    tower_positions.append((self.rows // 2, self.cols // 2))\n",
    "        \n",
    "        return tower_positions\n",
    "\n",
    "    def get_tower_cells(self, center):\n",
    "        cells = []\n",
    "        i, j = center\n",
    "        for di in [-1, 0, 1]:\n",
    "            for dj in [-1, 0, 1]:\n",
    "                ni, nj = i + di, j + dj\n",
    "                if 0 <= ni < self.rows and 0 <= nj < self.cols:\n",
    "                    cells.append((ni, nj))\n",
    "        return cells\n",
    "        \n",
    "    def reset(self):\n",
    "        self.agent_pos = self.start\n",
    "        self.position_history = [self.start]\n",
    "        self.steps_count = 0\n",
    "        \n",
    "        # Réinitialiser les tours\n",
    "        self.tower_positions = self.generate_tower_positions()\n",
    "        self.tower_cells = [self.get_tower_cells(pos) for pos in self.tower_positions]\n",
    "        self.tower_destroyed = [False] * self.num_towers \n",
    "        \n",
    "        return self.get_state_representation()\n",
    "\n",
    "    def is_terminal(self, state_pos):\n",
    "        return tuple(state_pos) in self.terminal_states\n",
    "\n",
    "    def get_state_representation(self):\n",
    "        pos_i, pos_j = self.agent_pos\n",
    "        goal_i, goal_j = self.terminal_states[0]\n",
    "        # Position normalisée\n",
    "        norm_pos_i = pos_i / self.rows\n",
    "        norm_pos_j = pos_j / self.cols\n",
    "        # Distance à l'objectif (normalisée)\n",
    "        dist_i = (goal_i - pos_i) / self.rows\n",
    "        dist_j = (goal_j - pos_j) / self.cols\n",
    "        # Distance euclidienne normalisée\n",
    "        euclidean_dist = np.sqrt((goal_i - pos_i)**2 + (goal_j - pos_j)**2) / np.sqrt(self.rows**2 + self.cols**2)\n",
    "        # Distance de Manhattan normalisée\n",
    "        manhattan_dist = (abs(goal_i - pos_i) + abs(goal_j - pos_j)) / (self.rows + self.cols)\n",
    "        \n",
    "        # Construire une carte des murs dans un voisinage 15x15\n",
    "        wall_map = np.zeros(224)  # 224 positions autour de l'agent (15x15 sans la position centrale)\n",
    "        idx = 0\n",
    "        for di in range(-7, 8):\n",
    "            for dj in range(-7, 8):\n",
    "                if di == 0 and dj == 0:  # Ignorer la position de l'agent\n",
    "                    continue\n",
    "                ni, nj = pos_i + di, pos_j + dj\n",
    "                # Si c'est un mur ou hors limites\n",
    "                if (ni, nj) in self.walls or not (0 <= ni < self.rows and 0 <= nj < self.cols):\n",
    "                    wall_map[idx] = 1\n",
    "                idx += 1\n",
    "                \n",
    "        # Indicateur de revisites\n",
    "        recent_visits = self.position_history[-15:] \n",
    "        revisit_count = min(0.75, recent_visits.count(self.agent_pos) / 7.0) \n",
    "        \n",
    "        # Distance au point de départ\n",
    "        start_i, start_j = self.start\n",
    "        start_dist = np.sqrt((start_i - pos_i)**2 + (start_j - pos_j)**2) / np.sqrt(self.rows**2 + self.cols**2)\n",
    "        \n",
    "        # Information sur les tours (pour chaque tour)\n",
    "        tower_states = []\n",
    "        for idx, (tower_pos, tower_cells, destroyed) in enumerate(zip(self.tower_positions, self.tower_cells, self.tower_destroyed)):\n",
    "            tower_exists = 1.0 if (self.steps_count < self.tower_timer and not destroyed) else 0.0\n",
    "            in_tower = 1.0 if self.agent_pos in tower_cells and tower_exists else 0.0\n",
    "            \n",
    "            # Distance à la tour si elle existe encore\n",
    "            tower_dist = 0.0\n",
    "            tower_dir_i, tower_dir_j = 0.0, 0.0\n",
    "            if tower_exists:\n",
    "                tower_i, tower_j = tower_pos\n",
    "                tower_dist = np.sqrt((tower_i - pos_i)**2 + (tower_j - pos_j)**2) / np.sqrt(self.rows**2 + self.cols**2)\n",
    "                # Direction vers la tour (vecteur normalisé)\n",
    "                tower_dir_i = (tower_i - pos_i) / self.rows\n",
    "                tower_dir_j = (tower_j - pos_j) / self.cols\n",
    "            \n",
    "            # Temps restant avant disparition de la tour (normalisé)\n",
    "            tower_time_left = max(0, (self.tower_timer - self.steps_count) / self.tower_timer) if tower_exists else 0.0\n",
    "            \n",
    "            # Indicateur si la tour a été détruite\n",
    "            tower_destroyed_flag = 1.0 if destroyed else 0.0\n",
    "            \n",
    "            # Ajouter les informations de cette tour à la liste\n",
    "            tower_states.extend([\n",
    "                tower_exists,         # La tour existe-t-elle encore? (1)\n",
    "                in_tower,             # L'agent est-il dans la tour? (1)\n",
    "                tower_dist,           # Distance à la tour (1)\n",
    "                tower_time_left,      # Temps restant avant disparition (1)\n",
    "                tower_dir_i,          # Direction vers la tour (i) (1)\n",
    "                tower_dir_j,          # Direction vers la tour (j) (1)\n",
    "                tower_destroyed_flag  # Indicateur si détruite (1)\n",
    "            ])\n",
    "        \n",
    "        # Compléter avec des zéros si moins de 3 tours (pour garder un vecteur de taille fixe)\n",
    "        while len(tower_states) < 21:  # 7 infos par tour * 3 tours max = 21\n",
    "            tower_states.extend([0.0] * 7)\n",
    "        \n",
    "        # Vector final avec l'ajout d'informations sur les tours et élargi avec le voisinage plus grand\n",
    "        state = np.array([\n",
    "            norm_pos_i, norm_pos_j,                # Position normalisée (2)\n",
    "            dist_i, dist_j,                        # Direction vers l'objectif (2)\n",
    "            manhattan_dist, euclidean_dist,        # Distances à l'objectif (2)\n",
    "            start_dist,                            # Distance au départ (1)\n",
    "            revisit_count,                         # Indicateur de boucles (1)\n",
    "            float(self.num_towers)                 # Nombre de tours dans l'environnement (1)\n",
    "        ] + tower_states + wall_map.tolist(), dtype=np.float32)   # Infos tours (21) + Carte des murs 15x15 (224)\n",
    "        \n",
    "        return state\n",
    "\n",
    "    def step(self, action):\n",
    "        action_effects = {\n",
    "            0: (-1, 0),  # up\n",
    "            1: (1, 0),   # down\n",
    "            2: (0, -1),  # left\n",
    "            3: (0, 1),   # right\n",
    "            4: (0, 0)    # wait\n",
    "        }\n",
    "\n",
    "        if self.is_terminal(self.agent_pos):\n",
    "            return self.get_state_representation(), 0, True\n",
    "\n",
    "        next_pos = (self.agent_pos[0] + action_effects[action][0],\n",
    "                    self.agent_pos[1] + action_effects[action][1])\n",
    "\n",
    "        # Vérifier si le prochain état est un mur ou hors limites\n",
    "        if next_pos in self.walls or not (0 <= next_pos[0] < self.rows and 0 <= next_pos[1] < self.cols):\n",
    "            next_pos = self.agent_pos  # L'agent reste sur place\n",
    "            reward = -0.2  # Pénalité pour avoir heurté un mur\n",
    "        else:\n",
    "            self.agent_pos = next_pos\n",
    "            reward = self.rewards.get(self.agent_pos, self.step_cost)\n",
    "            \n",
    "            # Vérifier si l'agent est entré dans une tour active\n",
    "            for idx, (tower_cells, destroyed) in enumerate(zip(self.tower_cells, self.tower_destroyed)):\n",
    "                tower_active = (self.steps_count < self.tower_timer and not destroyed)\n",
    "                if tower_active and self.agent_pos in tower_cells:\n",
    "                    if self.broken:\n",
    "                        # En mode broken, l'agent détruit la tour et reçoit une récompense\n",
    "                        if not destroyed:\n",
    "                            self.tower_destroyed[idx] = True\n",
    "                            reward += self.tower_destroy_reward\n",
    "                    else:\n",
    "                        # En mode normal, l'agent reçoit une pénalité\n",
    "                        reward += self.tower_penalty\n",
    "                        if self.retour:\n",
    "                            self.agent_pos = self.start  # Reste sur place \n",
    "        \n",
    "        if action == 4:  # wait\n",
    "            reward -= 0.005  # Pénalité pour l'attente\n",
    "            \n",
    "        # Incrémenter le compteur de pas\n",
    "        self.steps_count += 1\n",
    "        \n",
    "        # Pénalité progressive pour revisiter des cellules (détection de boucles améliorée)\n",
    "        if self.agent_pos in self.position_history[-10:]:\n",
    "            visits = self.position_history[-10:].count(self.agent_pos)\n",
    "            reward -= visits * 0.08  # Pénalité pour dissuader les boucles\n",
    "        \n",
    "        # Mettre à jour l'historique des positions\n",
    "        self.position_history.append(self.agent_pos)\n",
    "        if len(self.position_history) > self.max_history_length:\n",
    "            self.position_history.pop(0)\n",
    "        \n",
    "        # Bonus basé sur le progrès vers l'objectif (récompense de shaping)\n",
    "        goal_i, goal_j = self.terminal_states[0]\n",
    "        curr_dist = abs(self.agent_pos[0] - goal_i) + abs(self.agent_pos[1] - goal_j)\n",
    "        \n",
    "        if len(self.position_history) > 1:\n",
    "            prev_pos = self.position_history[-2]\n",
    "            prev_dist = abs(prev_pos[0] - goal_i) + abs(prev_pos[1] - goal_j)\n",
    "            if curr_dist < prev_dist:\n",
    "                reward += 0.05  # Bonus plus important pour se rapprocher\n",
    "            elif curr_dist > prev_dist:\n",
    "                reward -= 0.02  # Légère pénalité pour s'éloigner\n",
    "            elif curr_dist == prev_dist:\n",
    "                reward += 0.02 # Encourage un peu l'agent à attendre\n",
    "        \n",
    "        done = self.is_terminal(self.agent_pos)\n",
    "        if done:\n",
    "            reward = self.rewards.get(self.agent_pos, 0)\n",
    "            \n",
    "        return self.get_state_representation(), reward, done\n",
    "\n",
    "    def render(self):\n",
    "        fig, ax = plt.subplots(figsize=(6, 6))\n",
    "        ax.set_xlim(0, self.cols)\n",
    "        ax.set_ylim(0, self.rows)\n",
    "        ax.set_xticks(np.arange(0, self.cols + 1, 1))\n",
    "        ax.set_yticks(np.arange(0, self.rows + 1, 1))\n",
    "        ax.set_xticklabels([])\n",
    "        ax.set_yticklabels([])\n",
    "        ax.grid(color=\"black\", linestyle=\"-\", linewidth=1)\n",
    "\n",
    "        for wall in self.walls:\n",
    "            rect = patches.Rectangle((wall[1], self.rows - wall[0] - 1), 1, 1, facecolor=\"black\")\n",
    "            ax.add_patch(rect)\n",
    "\n",
    "        for terminal in self.terminal_states:\n",
    "            rect = patches.Rectangle((terminal[1], self.rows - terminal[0] - 1), 1, 1, facecolor=\"green\")\n",
    "            ax.add_patch(rect)\n",
    "            \n",
    "        tower_colors = [\"orange\", \"purple\", \"brown\"]  # Différentes couleurs pour les tours\n",
    "        for idx, (tower_cells, destroyed) in enumerate(zip(self.tower_cells, self.tower_destroyed)):\n",
    "            if self.steps_count < self.tower_timer and not destroyed:\n",
    "                color = tower_colors[idx % len(tower_colors)]\n",
    "                for cell in tower_cells:\n",
    "                    rect = patches.Rectangle((cell[1], self.rows - cell[0] - 1), 1, 1, \n",
    "                                          facecolor=color, alpha=0.6)\n",
    "                    ax.add_patch(rect)\n",
    "\n",
    "        rect = patches.Rectangle((self.agent_pos[1], self.rows - self.agent_pos[0] - 1), 1, 1, facecolor=\"blue\")\n",
    "        ax.add_patch(rect)\n",
    "        \n",
    "        # Visualiser l'historique des positions\n",
    "        for i, pos in enumerate(self.position_history[:-1]):\n",
    "            alpha = 0.1 + 0.4 * i / len(self.position_history)\n",
    "            rect = patches.Rectangle((pos[1], self.rows - pos[0] - 1), 1, 1, \n",
    "                                  facecolor=\"lightblue\", alpha=min(0.3, alpha))\n",
    "            ax.add_patch(rect)\n",
    "\n",
    "        # Indiquer le temps restant pour les tours ou leur état de destruction\n",
    "        destroyed_count = sum(self.tower_destroyed)\n",
    "        if destroyed_count > 0:\n",
    "            ax.text(0.5, 0.02, f\"{destroyed_count}/{self.num_towers} tours détruites!\", \n",
    "                   transform=ax.transAxes, ha='center', \n",
    "                   bbox=dict(facecolor='red', alpha=0.8))\n",
    "        \n",
    "        if self.steps_count < self.tower_timer:\n",
    "            time_left = self.tower_timer - self.steps_count\n",
    "            ax.text(0.5, 0.05, f\"Tours: {time_left} pas restants\", transform=ax.transAxes, \n",
    "                   ha='center', bbox=dict(facecolor='white', alpha=0.8))\n",
    "\n",
    "        plt.title(\"GridWorld\")\n",
    "\n",
    "        buf = BytesIO()\n",
    "        plt.savefig(buf, format='png', bbox_inches='tight')\n",
    "        buf.seek(0)\n",
    "        image = Image.open(buf)\n",
    "        plt.close(fig)\n",
    "\n",
    "        return image"
   ]
  },
  {
   "cell_type": "markdown",
   "metadata": {},
   "source": [
    "# Agent"
   ]
  },
  {
   "cell_type": "code",
   "execution_count": 33,
   "metadata": {
    "execution": {
     "iopub.execute_input": "2025-05-02T08:32:36.622303Z",
     "iopub.status.busy": "2025-05-02T08:32:36.621968Z",
     "iopub.status.idle": "2025-05-02T08:32:36.642756Z",
     "shell.execute_reply": "2025-05-02T08:32:36.641934Z",
     "shell.execute_reply.started": "2025-05-02T08:32:36.622269Z"
    },
    "trusted": true
   },
   "outputs": [],
   "source": [
    "class ReplayMemory:\n",
    "    def __init__(self, capacity):\n",
    "        self.capacity = capacity\n",
    "        self.memory = []\n",
    "        self.position = 0\n",
    "        self.Experience = namedtuple('Experience', ('state', 'action', 'next_state', 'reward', 'done'))\n",
    "        \n",
    "    def push(self, *args):\n",
    "        if len(self.memory) < self.capacity:\n",
    "            self.memory.append(None)\n",
    "        self.memory[self.position] = self.Experience(*args)\n",
    "        self.position = (self.position + 1) % self.capacity\n",
    "        \n",
    "    def sample(self, batch_size):\n",
    "        # Échantillonnage avec biais léger vers les expériences récentes\n",
    "        p = None\n",
    "        if len(self.memory) > batch_size * 10:  # Si assez d'expériences accumulées\n",
    "            recency = np.linspace(0.5, 1.0, len(self.memory))\n",
    "            p = recency / recency.sum()\n",
    "        \n",
    "        indices = np.random.choice(len(self.memory), min(batch_size, len(self.memory)), replace=False, p=p)\n",
    "        return [self.memory[i] for i in indices]\n",
    "            \n",
    "    def __len__(self):\n",
    "        return len(self.memory)"
   ]
  },
  {
   "cell_type": "code",
   "execution_count": null,
   "metadata": {
    "execution": {
     "iopub.execute_input": "2025-05-02T08:32:36.643939Z",
     "iopub.status.busy": "2025-05-02T08:32:36.643698Z",
     "iopub.status.idle": "2025-05-02T08:32:36.669358Z",
     "shell.execute_reply": "2025-05-02T08:32:36.668352Z",
     "shell.execute_reply.started": "2025-05-02T08:32:36.643920Z"
    },
    "trusted": true
   },
   "outputs": [],
   "source": [
    "class DQN(nn.Module):\n",
    "    def __init__(self, input_size, output_size, hidden_sizes=[128, 128]):\n",
    "        super(DQN, self).__init__()\n",
    "        \n",
    "        self.layers = nn.ModuleList()\n",
    "        \n",
    "        # Couche d'entrée\n",
    "        self.layers.append(nn.Linear(input_size, hidden_sizes[0]))\n",
    "        self.dropout = nn.Dropout(0.2)  # Dropout pour améliorer la généralisation\n",
    "        \n",
    "        # Couches cachées\n",
    "        for i in range(len(hidden_sizes) - 1):\n",
    "            self.layers.append(nn.Linear(hidden_sizes[i], hidden_sizes[i+1]))\n",
    "        \n",
    "        # Couche de sortie\n",
    "        self.layers.append(nn.Linear(hidden_sizes[-1], output_size))\n",
    "        \n",
    "        # Initialisation des poids pour une convergence plus rapide\n",
    "        for layer in self.layers:\n",
    "            nn.init.kaiming_normal_(layer.weight, nonlinearity='relu')\n",
    "        \n",
    "    def forward(self, x):\n",
    "        # Si x est un seul état, ajouter une dimension de batch\n",
    "        if len(x.shape) == 1:\n",
    "            x = x.unsqueeze(0)\n",
    "            \n",
    "        # Passage dans les couches avec activation ReLU et dropout\n",
    "        for i in range(len(self.layers) - 1):\n",
    "            x = F.relu(self.layers[i](x))\n",
    "            if i == 0:  # Appliquer dropout après la première couche cachée\n",
    "                x = self.dropout(x)\n",
    "        \n",
    "        return self.layers[-1](x)\n",
    "\n",
    "class DQNAgent:\n",
    "    def __init__(self, state_size, action_size, hidden_sizes=[128, 128], lr=0.0003):\n",
    "        self.state_size = state_size\n",
    "        self.action_size = action_size\n",
    "        \n",
    "        # Réseaux principal et cible\n",
    "        self.policy_net = DQN(state_size, action_size, hidden_sizes).to(device)\n",
    "        self.target_net = DQN(state_size, action_size, hidden_sizes).to(device)\n",
    "        self.target_net.load_state_dict(self.policy_net.state_dict())\n",
    "        self.target_net.eval()\n",
    "        \n",
    "        # Optimizer avec learning rate scheduler\n",
    "        self.optimizer = optim.Adam(self.policy_net.parameters(), lr=lr, weight_decay=1e-5)\n",
    "        self.scheduler = optim.lr_scheduler.StepLR(self.optimizer, step_size=200, gamma=0.9)\n",
    "        \n",
    "        self.memory = ReplayMemory(200000)  # Grande mémoire\n",
    "        \n",
    "        # Hyperparamètres\n",
    "        self.batch_size = 128  # Batch plus grand pour diversité\n",
    "        self.gamma = 0.99\n",
    "        self.epsilon_start = 1.0\n",
    "        self.epsilon_end = 0.01\n",
    "        self.epsilon_decay = 0.00005  # Décroissance adaptée\n",
    "        self.target_update = 10\n",
    "        self.tau = 0.005  # Mises à jour douces\n",
    "        \n",
    "        self.steps_done = 0\n",
    "        \n",
    "    def select_action(self, state, training=True):\n",
    "        sample = random.random()\n",
    "        \n",
    "        # Calcul d'epsilon avec une décroissance exponentielle\n",
    "        epsilon = self.epsilon_end + (self.epsilon_start - self.epsilon_end) * \\\n",
    "                  np.exp(-self.epsilon_decay * self.steps_done)\n",
    "        \n",
    "        if training:\n",
    "            self.steps_done += 1\n",
    "            \n",
    "        if sample > epsilon or not training:\n",
    "            with torch.no_grad():\n",
    "                state_tensor = torch.FloatTensor(state).to(device)\n",
    "                q_values = self.policy_net(state_tensor)\n",
    "                return q_values.max(1)[1].item()\n",
    "        else:\n",
    "            # Action aléatoire pour l'exploration avec biais\n",
    "            if random.random() < 0.8:  # 80% du temps: action totalement aléatoire\n",
    "                return random.randrange(self.action_size)\n",
    "            else:  # 20% du temps: action basée sur Q-values avec bruit\n",
    "                with torch.no_grad():\n",
    "                    state_tensor = torch.FloatTensor(state).to(device)\n",
    "                    q_values = self.policy_net(state_tensor).cpu().numpy().flatten()\n",
    "                    noise = np.random.normal(0, 1, size=self.action_size)\n",
    "                    noisy_q_values = q_values + noise\n",
    "                    return np.argmax(noisy_q_values)\n",
    "\n",
    "    def optimize_model(self):\n",
    "        if len(self.memory) < self.batch_size:\n",
    "            return 0\n",
    "        \n",
    "        experiences = self.memory.sample(self.batch_size)\n",
    "        batch = self.memory.Experience(*zip(*experiences))\n",
    "        \n",
    "        # Conversion en tenseurs\n",
    "        state_batch = torch.FloatTensor(np.array(batch.state)).to(device)\n",
    "        action_batch = torch.LongTensor(np.array(batch.action).reshape(-1, 1)).to(device)\n",
    "        reward_batch = torch.FloatTensor(np.array(batch.reward)).to(device)\n",
    "        next_state_batch = torch.FloatTensor(np.array(batch.next_state)).to(device)\n",
    "        done_batch = torch.FloatTensor(np.array(batch.done)).to(device)\n",
    "        \n",
    "        # Double DQN: sélection d'action avec réseau principal, évaluation avec réseau cible\n",
    "        with torch.no_grad():\n",
    "            next_q_values = self.policy_net(next_state_batch)\n",
    "            next_actions = next_q_values.max(1)[1].unsqueeze(1)\n",
    "            next_q_values_target = self.target_net(next_state_batch)\n",
    "            next_q_values = next_q_values_target.gather(1, next_actions).squeeze(1)\n",
    "        \n",
    "        # Q-values cibles avec facteur gamma adapté\n",
    "        expected_q_values = reward_batch + (1 - done_batch) * self.gamma * next_q_values\n",
    "        \n",
    "        # Q-values actuelles\n",
    "        current_q_values = self.policy_net(state_batch).gather(1, action_batch).squeeze(1)\n",
    "        \n",
    "        # Calcul de la perte: Huber loss (plus robuste aux outliers)\n",
    "        loss = F.smooth_l1_loss(current_q_values, expected_q_values)\n",
    "        \n",
    "        # Optimisation\n",
    "        self.optimizer.zero_grad()\n",
    "        loss.backward()\n",
    "        \n",
    "        # Gradient clipping pour stabiliser l'apprentissage\n",
    "        torch.nn.utils.clip_grad_norm_(self.policy_net.parameters(), 1.0)\n",
    "        \n",
    "        self.optimizer.step()\n",
    "        \n",
    "        return loss.item()\n",
    "    \n",
    "    def update_target_network(self, tau=None):\n",
    "        if tau is None:\n",
    "            self.target_net.load_state_dict(self.policy_net.state_dict())\n",
    "        else:\n",
    "            for target_param, policy_param in zip(self.target_net.parameters(), self.policy_net.parameters()):\n",
    "                target_param.data.copy_(tau * policy_param.data + (1 - tau) * target_param.data)\n",
    "    \n",
    "    def save(self, path):\n",
    "        torch.save({\n",
    "            'policy_net': self.policy_net.state_dict(),\n",
    "            'target_net': self.target_net.state_dict(),\n",
    "            'optimizer': self.optimizer.state_dict(),\n",
    "            'steps_done': self.steps_done,\n",
    "            'scheduler': self.scheduler.state_dict()\n",
    "        }, path)\n",
    "    \n",
    "    def load(self, path):\n",
    "        checkpoint = torch.load(path)\n",
    "        self.policy_net.load_state_dict(checkpoint['policy_net'])\n",
    "        self.target_net.load_state_dict(checkpoint['target_net'])\n",
    "        self.optimizer.load_state_dict(checkpoint['optimizer'])\n",
    "        self.steps_done = checkpoint.get('steps_done', 0)\n",
    "        if 'scheduler' in checkpoint:\n",
    "            self.scheduler.load_state_dict(checkpoint['scheduler'])"
   ]
  },
  {
   "cell_type": "markdown",
   "metadata": {},
   "source": [
    "# Env"
   ]
  },
  {
   "cell_type": "code",
   "execution_count": null,
   "metadata": {
    "execution": {
     "iopub.execute_input": "2025-05-02T08:32:36.670748Z",
     "iopub.status.busy": "2025-05-02T08:32:36.670502Z",
     "iopub.status.idle": "2025-05-02T08:32:36.690113Z",
     "shell.execute_reply": "2025-05-02T08:32:36.689319Z",
     "shell.execute_reply.started": "2025-05-02T08:32:36.670728Z"
    },
    "trusted": true
   },
   "outputs": [],
   "source": [
    "def create_random_env(rows=20, cols=9, num_walls=15, complexity=0.7, tower_penalty=-5, tower_timer=20, num_towers=1, retour=True, seed=None, broken=False, tower_destroy_reward=0.0):\n",
    "    if seed is not None:\n",
    "        np.random.seed(seed)\n",
    "        random.seed(seed)\n",
    "    \n",
    "    start = (0, cols//2)\n",
    "    terminal_states = [(rows-1, cols//2)]  # Objectif à l'opposé du départ\n",
    "    \n",
    "    # Nombre de murs adaptés à la taille et complexité\n",
    "    actual_num_walls = int(num_walls * complexity * (rows * cols) / 64)\n",
    "    actual_num_walls = min(actual_num_walls, int(rows * cols * 0.4))  # Max 40% de murs\n",
    "    \n",
    "    walls = set()\n",
    "    attempts = 0\n",
    "    max_attempts = actual_num_walls * 3\n",
    "    \n",
    "    while len(walls) < actual_num_walls and attempts < max_attempts:\n",
    "        wall = (np.random.randint(rows), np.random.randint(cols))\n",
    "        if wall != start and wall not in terminal_states and wall not in walls:\n",
    "            walls.add(wall)\n",
    "        attempts += 1\n",
    "    \n",
    "    def is_valid_maze():\n",
    "        queue = [start]\n",
    "        visited = {start}\n",
    "        \n",
    "        while queue:\n",
    "            current = queue.pop(0)\n",
    "            if current in terminal_states:\n",
    "                return True\n",
    "                \n",
    "            for dx, dy in [(-1, 0), (1, 0), (0, -1), (0, 1)]:\n",
    "                nx, ny = current[0] + dx, current[1] + dy\n",
    "                neighbor = (nx, ny)\n",
    "                \n",
    "                if (0 <= nx < rows and 0 <= ny < cols and \n",
    "                    neighbor not in walls and \n",
    "                    neighbor not in visited):\n",
    "                    visited.add(neighbor)\n",
    "                    queue.append(neighbor)\n",
    "        \n",
    "        return False\n",
    "    \n",
    "    # Garantir qu'un chemin existe\n",
    "    while not is_valid_maze():\n",
    "        if walls:\n",
    "            walls.pop()\n",
    "        else:\n",
    "            break\n",
    "    \n",
    "    # Récompenses avec shaping potentiel\n",
    "    rewards = {terminal_states[0]: 10.0}  # Récompense à l'objectif\n",
    "    step_cost = -0.01  # Coût très faible par pas\n",
    "    \n",
    "    return GridWorld(rows, cols, start, terminal_states, list(walls), rewards, tower_penalty, tower_timer, num_towers, retour, step_cost, broken=broken, tower_destroy_reward=tower_destroy_reward)"
   ]
  },
  {
   "cell_type": "markdown",
   "metadata": {},
   "source": [
    "# Train"
   ]
  },
  {
   "cell_type": "code",
   "execution_count": null,
   "metadata": {
    "execution": {
     "iopub.execute_input": "2025-05-02T08:32:36.692170Z",
     "iopub.status.busy": "2025-05-02T08:32:36.691860Z",
     "iopub.status.idle": "2025-05-02T08:32:36.717613Z",
     "shell.execute_reply": "2025-05-02T08:32:36.716511Z",
     "shell.execute_reply.started": "2025-05-02T08:32:36.692133Z"
    },
    "trusted": true
   },
   "outputs": [],
   "source": [
    "def train_dqn_agent_curriculum(env_params, agent, num_episodes, checkpoint_path=\"dqn_model.pth\"):\n",
    "\n",
    "    rewards_history = []\n",
    "    best_avg_reward = float('-inf')\n",
    "    no_improvement_count = 0\n",
    "    max_no_improvement = 5\n",
    "    \n",
    "    # Paramètres initiaux\n",
    "    rows, cols = env_params['rows'], env_params['cols']\n",
    "    num_walls = env_params['num_walls']\n",
    "    tower_penalty, tower_timer = env_params['tower_penalty'], env_params['tower_timer']\n",
    "    retour = env_params['retour']\n",
    "    broken = env_params['broken']\n",
    "    tower_destroy_reward = env_params['tower_destroy_reward']\n",
    "    num_towers = env_params['num_towers']\n",
    "    initial_complexity = 0.5  # Commencer avec des labyrinthes simples\n",
    "    \n",
    "    # Générer un nouvel environnement à chaque fois\n",
    "    def get_new_environment(complexity):\n",
    "        seed = random.randint(0, 10000)\n",
    "        return create_random_env(rows, cols, num_walls, complexity, tower_penalty, tower_timer, num_towers, retour, seed, broken=broken, tower_destroy_reward=tower_destroy_reward)\n",
    "        \n",
    "    # Complexité augmentant progressivement\n",
    "    complexity = initial_complexity\n",
    "    group_size = 100 \n",
    "    \n",
    "    for group in range(num_episodes // group_size):\n",
    "        print(f\"Groupe d'épisodes {group+1}/{num_episodes // group_size}, Complexité: {complexity:.2f}, {rows}x{cols}, {num_walls} walls\")\n",
    "        group_rewards = []\n",
    "        successful_episodes = 0\n",
    "        \n",
    "        # Pour chaque épisode, utiliser un nouvel environnement\n",
    "        for episode in tqdm(range(group_size)):\n",
    "            # Créer un nouvel environnement à chaque épisode pour favoriser la généralisation\n",
    "            env = get_new_environment(complexity)\n",
    "            state = env.reset()\n",
    "            episode_reward = 0\n",
    "            done = False\n",
    "            steps = 0\n",
    "            max_steps = max(rows * cols // 2, 100)  # Nombre de pas max adapté à la taille\n",
    "            \n",
    "            while not done and steps < max_steps:\n",
    "                action = agent.select_action(state)\n",
    "                next_state, reward, done = env.step(action)\n",
    "                \n",
    "                # Stocker l'expérience dans la mémoire\n",
    "                agent.memory.push(state, action, next_state, reward, done)\n",
    "                \n",
    "                # Optimiser le modèle plusieurs fois pour mieux apprendre de chaque expérience\n",
    "                if steps % 4 == 0: \n",
    "                    loss = agent.optimize_model()\n",
    "                \n",
    "                state = next_state\n",
    "                episode_reward += reward\n",
    "                steps += 1\n",
    "                \n",
    "                # Mise à jour douce du réseau cible\n",
    "                if steps % 10 == 0:\n",
    "                    agent.update_target_network(tau=agent.tau)\n",
    "                \n",
    "                if done:\n",
    "                    successful_episodes += 1\n",
    "            \n",
    "            # Mise à jour du scheduler de learning rate\n",
    "            agent.scheduler.step()\n",
    "            \n",
    "            # Mise à jour complète du réseau cible\n",
    "            if episode % agent.target_update == 0:\n",
    "                agent.update_target_network()\n",
    "                \n",
    "            group_rewards.append(episode_reward)\n",
    "        \n",
    "        # Calculer et afficher la moyenne des récompenses pour ce groupe\n",
    "        avg_reward = sum(group_rewards) / len(group_rewards)\n",
    "        rewards_history.append(avg_reward)\n",
    "        success_rate = successful_episodes / group_size * 100\n",
    "        print(f\"Moyenne des récompenses: {avg_reward:.2f}, Taux de réussite: {success_rate:.2f}%\")\n",
    "        \n",
    "        # Sauvegarder le meilleur modèle\n",
    "        if avg_reward > best_avg_reward or group % 10 == 0:  \n",
    "            best_avg_reward = max(avg_reward, best_avg_reward)\n",
    "            agent.save(checkpoint_path)\n",
    "            print(f\"Nouveau modèle sauvegardé: récompense moyenne = {avg_reward:.2f}\")\n",
    "            no_improvement_count = 0\n",
    "        else:\n",
    "            no_improvement_count += 1\n",
    "        \n",
    "        # Augmenter progressivement la complexité\n",
    "        if success_rate > 80:  # Si l'agent réussit bien, augmenter la difficulté\n",
    "            complexity = min(1.0, complexity + 0.05)\n",
    "            num_walls += 2\n",
    "            num_towers += 1 \n",
    "            print(f\"Augmentation de la complexité à {complexity:.2f}, {rows}x{cols}, {num_walls} walls, {num_towers} towers\")\n",
    "        elif success_rate < 30 and complexity > 0.3:  # Si trop difficile, diminuer\n",
    "            complexity = max(0.3, complexity - 0.03)\n",
    "            if num_walls != 2:\n",
    "                num_walls -= 2\n",
    "            if num_towers != 1:\n",
    "                num_towers -= 1\n",
    "            print(f\"Réduction de la complexité à {complexity:.2f}, {rows}x{cols}, {num_walls} walls, {num_towers} towers\")\n",
    "            \n",
    "        # Si pas d'amélioration, reset partiel\n",
    "        if no_improvement_count >= max_no_improvement:\n",
    "            print(f\"Pas d'amélioration depuis {max_no_improvement} groupes. Réinitialisation partielle...\")\n",
    "            agent.load(checkpoint_path)  # Charger le meilleur modèle\n",
    "            # Réduire le learning rate\n",
    "            for param_group in agent.optimizer.param_groups:\n",
    "                param_group['lr'] *= 0.9\n",
    "            agent.epsilon_start = max(0.3, agent.epsilon_start * 0.95)  # Réduire l'exploration\n",
    "            complexity = max(0.4, complexity - 0.1)  # Réduire la complexité\n",
    "            num_walls = env_params['num_walls']\n",
    "            num_towers = env_params['num_towers']\n",
    "            no_improvement_count = 0\n",
    "    \n",
    "    # Charger le meilleur modèle à la fin\n",
    "    agent.load(checkpoint_path)\n",
    "    return rewards_history\n",
    "\n",
    "def visualize_env(env):\n",
    "    fig, ax = plt.subplots(figsize=(6, 6))\n",
    "    ax.set_xlim(0, env.cols)\n",
    "    ax.set_ylim(0, env.rows)\n",
    "    ax.set_xticks(np.arange(0, env.cols + 1, 1))\n",
    "    ax.set_yticks(np.arange(0, env.rows + 1, 1))\n",
    "    ax.set_xticklabels([])\n",
    "    ax.set_yticklabels([])\n",
    "    ax.grid(color=\"black\", linestyle=\"-\", linewidth=1)\n",
    "\n",
    "    # Dessiner les murs\n",
    "    for wall in env.walls:\n",
    "        rect = patches.Rectangle((wall[1], env.rows - wall[0] - 1), 1, 1, facecolor=\"black\")\n",
    "        ax.add_patch(rect)\n",
    "\n",
    "    # Dessiner les états terminaux\n",
    "    for terminal in env.terminal_states:\n",
    "        rect = patches.Rectangle((terminal[1], env.rows - terminal[0] - 1), 1, 1, facecolor=\"green\")\n",
    "        ax.add_patch(rect)\n",
    "        \n",
    "    # Dessiner la tour si elle est encore active (dans l'état initial, le steps_count est 0)\n",
    "    tower_colors = [\"orange\", \"purple\", \"brown\"]  # Différentes couleurs pour les tours\n",
    "    for idx, (tower_cells, destroyed) in enumerate(zip(env.tower_cells, env.tower_destroyed)):\n",
    "        if env.steps_count < env.tower_timer and not destroyed:\n",
    "            color = tower_colors[idx % len(tower_colors)]\n",
    "            for cell in tower_cells:\n",
    "                rect = patches.Rectangle((cell[1], env.rows - cell[0] - 1), 1, 1, \n",
    "                                      facecolor=color, alpha=0.6)\n",
    "                ax.add_patch(rect)\n",
    "            \n",
    "    # Dessiner le point de départ\n",
    "    rect = patches.Rectangle((env.start[1], env.rows - env.start[0] - 1), 1, 1, facecolor=\"blue\")\n",
    "    ax.add_patch(rect)\n",
    "\n",
    "    plt.title(\"GridWorld Environment\")\n",
    "    plt.show()"
   ]
  },
  {
   "cell_type": "markdown",
   "metadata": {},
   "source": [
    "# Run"
   ]
  },
  {
   "cell_type": "code",
   "execution_count": 37,
   "metadata": {
    "execution": {
     "iopub.execute_input": "2025-05-02T08:32:36.718873Z",
     "iopub.status.busy": "2025-05-02T08:32:36.718634Z",
     "iopub.status.idle": "2025-05-02T08:32:36.737311Z",
     "shell.execute_reply": "2025-05-02T08:32:36.736480Z",
     "shell.execute_reply.started": "2025-05-02T08:32:36.718855Z"
    },
    "trusted": true
   },
   "outputs": [],
   "source": [
    "def run_trained_agent(env, agent, max_steps=200):\n",
    "    state = env.reset()\n",
    "    done = False\n",
    "    steps = 0\n",
    "    grids = [env.render()]\n",
    "    total_reward = 0\n",
    "    \n",
    "    while not done and steps < max_steps:\n",
    "        action = agent.select_action(state, training=False)\n",
    "        next_state, reward, done = env.step(action)\n",
    "        \n",
    "        grids.append(env.render())\n",
    "        state = next_state\n",
    "        total_reward += reward\n",
    "        steps += 1\n",
    "        \n",
    "    return grids, steps, done, total_reward"
   ]
  },
  {
   "cell_type": "markdown",
   "metadata": {},
   "source": [
    "# Test"
   ]
  },
  {
   "cell_type": "code",
   "execution_count": 38,
   "metadata": {
    "execution": {
     "iopub.execute_input": "2025-05-02T08:32:36.738480Z",
     "iopub.status.busy": "2025-05-02T08:32:36.738221Z",
     "iopub.status.idle": "2025-05-02T08:32:36.754537Z",
     "shell.execute_reply": "2025-05-02T08:32:36.753238Z",
     "shell.execute_reply.started": "2025-05-02T08:32:36.738461Z"
    },
    "trusted": true
   },
   "outputs": [],
   "source": [
    "def test_agent_on_new_maze(agent, rows=20, cols=9, num_walls=20, complexity=1.0, tower_penalty=-5, tower_timer=20, num_towers=1, retour=True, seed=None, broken=False, tower_destroy_reward=0.0):\n",
    "    \"\"\"Teste l'agent sur un nouveau labyrinthe de taille et complexité définies\"\"\"\n",
    "    env = create_random_env(rows, cols, num_walls, complexity, tower_penalty, tower_timer, num_towers, retour, seed, broken=broken, tower_destroy_reward=tower_destroy_reward)\n",
    "    \n",
    "    print(f\"Test sur un nouveau labyrinthe {rows}x{cols} avec {len(env.walls)} murs:\")\n",
    "    visualize_env(env)\n",
    "    \n",
    "    grids, steps, success, total_reward = run_trained_agent(env, agent, max_steps=rows*cols*2)\n",
    "    \n",
    "    print(f\"Agent a {'réussi' if success else 'échoué'} en {steps} pas avec une récompense de {total_reward:.2f}\")\n",
    "    \n",
    "    # Création de la vidéo\n",
    "    video = create_video_from_images(grids, output_file=f\"dqn_maze_{rows}x{cols}.mp4\")\n",
    "    \n",
    "    return success, steps, total_reward, video"
   ]
  },
  {
   "cell_type": "markdown",
   "metadata": {},
   "source": [
    "# EVITE TOWER"
   ]
  },
  {
   "cell_type": "code",
   "execution_count": null,
   "metadata": {
    "execution": {
     "iopub.execute_input": "2025-05-02T08:32:36.756477Z",
     "iopub.status.busy": "2025-05-02T08:32:36.755681Z",
     "iopub.status.idle": "2025-05-02T08:50:12.271122Z",
     "shell.execute_reply": "2025-05-02T08:50:12.270251Z",
     "shell.execute_reply.started": "2025-05-02T08:32:36.756447Z"
    },
    "scrolled": true,
    "trusted": true
   },
   "outputs": [
    {
     "name": "stdout",
     "output_type": "stream",
     "text": [
      "Taille de l'état: 254, Nombre d'actions: 5\n",
      "Exemple d'environnement:\n"
     ]
    },
    {
     "data": {
      "image/png": "[encoded data removed]",
      "text/plain": [
       "<Figure size 600x600 with 1 Axes>"
      ]
     },
     "metadata": {},
     "output_type": "display_data"
    },
    {
     "name": "stdout",
     "output_type": "stream",
     "text": [
      "\n",
      "Début de l'entraînement avec curriculum learning...\n",
      "Groupe d'épisodes 1/50, Complexité: 0.50, 20x9, 15 walls\n"
     ]
    },
    {
     "name": "stderr",
     "output_type": "stream",
     "text": [
      "100%|██████████| 100/100 [00:14<00:00,  6.67it/s]\n"
     ]
    },
    {
     "name": "stdout",
     "output_type": "stream",
     "text": [
      "Moyenne des récompenses: -12.33, Taux de réussite: 6.00%\n",
      "Nouveau modèle sauvegardé: récompense moyenne = -12.33\n",
      "Réduction de la complexité à 0.47, 20x9, 13 walls, 1 towers\n",
      "Groupe d'épisodes 2/50, Complexité: 0.47, 20x9, 13 walls\n"
     ]
    },
    {
     "name": "stderr",
     "output_type": "stream",
     "text": [
      "100%|██████████| 100/100 [00:12<00:00,  7.80it/s]\n"
     ]
    },
    {
     "name": "stdout",
     "output_type": "stream",
     "text": [
      "Moyenne des récompenses: -3.90, Taux de réussite: 71.00%\n",
      "Nouveau modèle sauvegardé: récompense moyenne = -3.90\n",
      "Groupe d'épisodes 3/50, Complexité: 0.47, 20x9, 13 walls\n"
     ]
    },
    {
     "name": "stderr",
     "output_type": "stream",
     "text": [
      "100%|██████████| 100/100 [00:13<00:00,  7.66it/s]\n"
     ]
    },
    {
     "name": "stdout",
     "output_type": "stream",
     "text": [
      "Moyenne des récompenses: -1.72, Taux de réussite: 75.00%\n",
      "Nouveau modèle sauvegardé: récompense moyenne = -1.72\n",
      "Groupe d'épisodes 4/50, Complexité: 0.47, 20x9, 13 walls\n"
     ]
    },
    {
     "name": "stderr",
     "output_type": "stream",
     "text": [
      "100%|██████████| 100/100 [00:11<00:00,  8.58it/s]\n"
     ]
    },
    {
     "name": "stdout",
     "output_type": "stream",
     "text": [
      "Moyenne des récompenses: 0.33, Taux de réussite: 90.00%\n",
      "Nouveau modèle sauvegardé: récompense moyenne = 0.33\n",
      "Augmentation de la complexité à 0.52, 20x9, 15 walls, 2 towers\n",
      "Groupe d'épisodes 5/50, Complexité: 0.52, 20x9, 15 walls\n"
     ]
    },
    {
     "name": "stderr",
     "output_type": "stream",
     "text": [
      "100%|██████████| 100/100 [00:12<00:00,  8.10it/s]\n"
     ]
    },
    {
     "name": "stdout",
     "output_type": "stream",
     "text": [
      "Moyenne des récompenses: -2.29, Taux de réussite: 92.00%\n",
      "Augmentation de la complexité à 0.57, 20x9, 17 walls, 3 towers\n",
      "Groupe d'épisodes 6/50, Complexité: 0.57, 20x9, 17 walls\n"
     ]
    },
    {
     "name": "stderr",
     "output_type": "stream",
     "text": [
      "100%|██████████| 100/100 [00:13<00:00,  7.36it/s]\n"
     ]
    },
    {
     "name": "stdout",
     "output_type": "stream",
     "text": [
      "Moyenne des récompenses: -9.83, Taux de réussite: 91.00%\n",
      "Augmentation de la complexité à 0.62, 20x9, 19 walls, 4 towers\n",
      "Groupe d'épisodes 7/50, Complexité: 0.62, 20x9, 19 walls\n"
     ]
    },
    {
     "name": "stderr",
     "output_type": "stream",
     "text": [
      "100%|██████████| 100/100 [00:15<00:00,  6.50it/s]\n"
     ]
    },
    {
     "name": "stdout",
     "output_type": "stream",
     "text": [
      "Moyenne des récompenses: -14.75, Taux de réussite: 82.00%\n",
      "Augmentation de la complexité à 0.67, 20x9, 21 walls, 5 towers\n",
      "Groupe d'épisodes 8/50, Complexité: 0.67, 20x9, 21 walls\n"
     ]
    },
    {
     "name": "stderr",
     "output_type": "stream",
     "text": [
      "100%|██████████| 100/100 [00:19<00:00,  5.19it/s]\n"
     ]
    },
    {
     "name": "stdout",
     "output_type": "stream",
     "text": [
      "Moyenne des récompenses: -18.32, Taux de réussite: 64.00%\n",
      "Groupe d'épisodes 9/50, Complexité: 0.67, 20x9, 21 walls\n"
     ]
    },
    {
     "name": "stderr",
     "output_type": "stream",
     "text": [
      "100%|██████████| 100/100 [00:18<00:00,  5.50it/s]\n"
     ]
    },
    {
     "name": "stdout",
     "output_type": "stream",
     "text": [
      "Moyenne des récompenses: -12.62, Taux de réussite: 72.00%\n",
      "Pas d'amélioration depuis 5 groupes. Réinitialisation partielle...\n",
      "Groupe d'épisodes 10/50, Complexité: 0.57, 20x9, 15 walls\n"
     ]
    },
    {
     "name": "stderr",
     "output_type": "stream",
     "text": [
      "100%|██████████| 100/100 [00:10<00:00,  9.32it/s]\n"
     ]
    },
    {
     "name": "stdout",
     "output_type": "stream",
     "text": [
      "Moyenne des récompenses: 2.53, Taux de réussite: 93.00%\n",
      "Nouveau modèle sauvegardé: récompense moyenne = 2.53\n",
      "Augmentation de la complexité à 0.62, 20x9, 17 walls, 2 towers\n",
      "Groupe d'épisodes 11/50, Complexité: 0.62, 20x9, 17 walls\n"
     ]
    },
    {
     "name": "stderr",
     "output_type": "stream",
     "text": [
      "100%|██████████| 100/100 [00:12<00:00,  7.77it/s]\n"
     ]
    },
    {
     "name": "stdout",
     "output_type": "stream",
     "text": [
      "Moyenne des récompenses: -1.30, Taux de réussite: 89.00%\n",
      "Nouveau modèle sauvegardé: récompense moyenne = -1.30\n",
      "Augmentation de la complexité à 0.67, 20x9, 19 walls, 3 towers\n",
      "Groupe d'épisodes 12/50, Complexité: 0.67, 20x9, 19 walls\n"
     ]
    },
    {
     "name": "stderr",
     "output_type": "stream",
     "text": [
      "100%|██████████| 100/100 [00:16<00:00,  5.97it/s]\n"
     ]
    },
    {
     "name": "stdout",
     "output_type": "stream",
     "text": [
      "Moyenne des récompenses: -14.25, Taux de réussite: 79.00%\n",
      "Groupe d'épisodes 13/50, Complexité: 0.67, 20x9, 19 walls\n"
     ]
    },
    {
     "name": "stderr",
     "output_type": "stream",
     "text": [
      "100%|██████████| 100/100 [00:17<00:00,  5.82it/s]\n"
     ]
    },
    {
     "name": "stdout",
     "output_type": "stream",
     "text": [
      "Moyenne des récompenses: -10.75, Taux de réussite: 82.00%\n",
      "Augmentation de la complexité à 0.72, 20x9, 21 walls, 4 towers\n",
      "Groupe d'épisodes 14/50, Complexité: 0.72, 20x9, 21 walls\n"
     ]
    },
    {
     "name": "stderr",
     "output_type": "stream",
     "text": [
      "100%|██████████| 100/100 [00:21<00:00,  4.68it/s]\n"
     ]
    },
    {
     "name": "stdout",
     "output_type": "stream",
     "text": [
      "Moyenne des récompenses: -13.51, Taux de réussite: 58.00%\n",
      "Groupe d'épisodes 15/50, Complexité: 0.72, 20x9, 21 walls\n"
     ]
    },
    {
     "name": "stderr",
     "output_type": "stream",
     "text": [
      "100%|██████████| 100/100 [00:21<00:00,  4.67it/s]\n"
     ]
    },
    {
     "name": "stdout",
     "output_type": "stream",
     "text": [
      "Moyenne des récompenses: -12.04, Taux de réussite: 57.00%\n",
      "Groupe d'épisodes 16/50, Complexité: 0.72, 20x9, 21 walls\n"
     ]
    },
    {
     "name": "stderr",
     "output_type": "stream",
     "text": [
      "100%|██████████| 100/100 [00:21<00:00,  4.70it/s]\n"
     ]
    },
    {
     "name": "stdout",
     "output_type": "stream",
     "text": [
      "Moyenne des récompenses: -11.91, Taux de réussite: 63.00%\n",
      "Pas d'amélioration depuis 5 groupes. Réinitialisation partielle...\n",
      "Groupe d'épisodes 17/50, Complexité: 0.62, 20x9, 15 walls\n"
     ]
    },
    {
     "name": "stderr",
     "output_type": "stream",
     "text": [
      "100%|██████████| 100/100 [00:12<00:00,  8.22it/s]\n"
     ]
    },
    {
     "name": "stdout",
     "output_type": "stream",
     "text": [
      "Moyenne des récompenses: -0.67, Taux de réussite: 96.00%\n",
      "Augmentation de la complexité à 0.67, 20x9, 17 walls, 2 towers\n",
      "Groupe d'épisodes 18/50, Complexité: 0.67, 20x9, 17 walls\n"
     ]
    },
    {
     "name": "stderr",
     "output_type": "stream",
     "text": [
      "100%|██████████| 100/100 [00:16<00:00,  6.00it/s]\n"
     ]
    },
    {
     "name": "stdout",
     "output_type": "stream",
     "text": [
      "Moyenne des récompenses: -10.52, Taux de réussite: 87.00%\n",
      "Augmentation de la complexité à 0.72, 20x9, 19 walls, 3 towers\n",
      "Groupe d'épisodes 19/50, Complexité: 0.72, 20x9, 19 walls\n"
     ]
    },
    {
     "name": "stderr",
     "output_type": "stream",
     "text": [
      "100%|██████████| 100/100 [00:20<00:00,  4.77it/s]\n"
     ]
    },
    {
     "name": "stdout",
     "output_type": "stream",
     "text": [
      "Moyenne des récompenses: -11.64, Taux de réussite: 69.00%\n",
      "Groupe d'épisodes 20/50, Complexité: 0.72, 20x9, 19 walls\n"
     ]
    },
    {
     "name": "stderr",
     "output_type": "stream",
     "text": [
      "100%|██████████| 100/100 [00:20<00:00,  4.83it/s]\n"
     ]
    },
    {
     "name": "stdout",
     "output_type": "stream",
     "text": [
      "Moyenne des récompenses: -13.42, Taux de réussite: 68.00%\n",
      "Groupe d'épisodes 21/50, Complexité: 0.72, 20x9, 19 walls\n"
     ]
    },
    {
     "name": "stderr",
     "output_type": "stream",
     "text": [
      "100%|██████████| 100/100 [00:20<00:00,  4.90it/s]\n"
     ]
    },
    {
     "name": "stdout",
     "output_type": "stream",
     "text": [
      "Moyenne des récompenses: -12.26, Taux de réussite: 74.00%\n",
      "Nouveau modèle sauvegardé: récompense moyenne = -12.26\n",
      "Groupe d'épisodes 22/50, Complexité: 0.72, 20x9, 19 walls\n"
     ]
    },
    {
     "name": "stderr",
     "output_type": "stream",
     "text": [
      "100%|██████████| 100/100 [00:21<00:00,  4.71it/s]\n"
     ]
    },
    {
     "name": "stdout",
     "output_type": "stream",
     "text": [
      "Moyenne des récompenses: -11.23, Taux de réussite: 80.00%\n",
      "Groupe d'épisodes 23/50, Complexité: 0.72, 20x9, 19 walls\n"
     ]
    },
    {
     "name": "stderr",
     "output_type": "stream",
     "text": [
      "100%|██████████| 100/100 [00:22<00:00,  4.51it/s]\n"
     ]
    },
    {
     "name": "stdout",
     "output_type": "stream",
     "text": [
      "Moyenne des récompenses: -6.79, Taux de réussite: 76.00%\n",
      "Groupe d'épisodes 24/50, Complexité: 0.72, 20x9, 19 walls\n"
     ]
    },
    {
     "name": "stderr",
     "output_type": "stream",
     "text": [
      "100%|██████████| 100/100 [00:22<00:00,  4.38it/s]\n"
     ]
    },
    {
     "name": "stdout",
     "output_type": "stream",
     "text": [
      "Moyenne des récompenses: -5.52, Taux de réussite: 73.00%\n",
      "Groupe d'épisodes 25/50, Complexité: 0.72, 20x9, 19 walls\n"
     ]
    },
    {
     "name": "stderr",
     "output_type": "stream",
     "text": [
      "100%|██████████| 100/100 [00:24<00:00,  4.06it/s]\n"
     ]
    },
    {
     "name": "stdout",
     "output_type": "stream",
     "text": [
      "Moyenne des récompenses: -10.89, Taux de réussite: 72.00%\n",
      "Groupe d'épisodes 26/50, Complexité: 0.72, 20x9, 19 walls\n"
     ]
    },
    {
     "name": "stderr",
     "output_type": "stream",
     "text": [
      "100%|██████████| 100/100 [00:23<00:00,  4.20it/s]\n"
     ]
    },
    {
     "name": "stdout",
     "output_type": "stream",
     "text": [
      "Moyenne des récompenses: -7.68, Taux de réussite: 78.00%\n",
      "Pas d'amélioration depuis 5 groupes. Réinitialisation partielle...\n",
      "Groupe d'épisodes 27/50, Complexité: 0.62, 20x9, 15 walls\n"
     ]
    },
    {
     "name": "stderr",
     "output_type": "stream",
     "text": [
      "100%|██████████| 100/100 [00:14<00:00,  6.96it/s]\n"
     ]
    },
    {
     "name": "stdout",
     "output_type": "stream",
     "text": [
      "Moyenne des récompenses: -0.52, Taux de réussite: 95.00%\n",
      "Augmentation de la complexité à 0.67, 20x9, 17 walls, 2 towers\n",
      "Groupe d'épisodes 28/50, Complexité: 0.67, 20x9, 17 walls\n"
     ]
    },
    {
     "name": "stderr",
     "output_type": "stream",
     "text": [
      "100%|██████████| 100/100 [00:16<00:00,  5.97it/s]\n"
     ]
    },
    {
     "name": "stdout",
     "output_type": "stream",
     "text": [
      "Moyenne des récompenses: -4.74, Taux de réussite: 91.00%\n",
      "Augmentation de la complexité à 0.72, 20x9, 19 walls, 3 towers\n",
      "Groupe d'épisodes 29/50, Complexité: 0.72, 20x9, 19 walls\n"
     ]
    },
    {
     "name": "stderr",
     "output_type": "stream",
     "text": [
      "100%|██████████| 100/100 [00:24<00:00,  4.16it/s]\n"
     ]
    },
    {
     "name": "stdout",
     "output_type": "stream",
     "text": [
      "Moyenne des récompenses: -9.66, Taux de réussite: 70.00%\n",
      "Groupe d'épisodes 30/50, Complexité: 0.72, 20x9, 19 walls\n"
     ]
    },
    {
     "name": "stderr",
     "output_type": "stream",
     "text": [
      "100%|██████████| 100/100 [00:26<00:00,  3.78it/s]\n"
     ]
    },
    {
     "name": "stdout",
     "output_type": "stream",
     "text": [
      "Moyenne des récompenses: -9.70, Taux de réussite: 64.00%\n",
      "Groupe d'épisodes 31/50, Complexité: 0.72, 20x9, 19 walls\n"
     ]
    },
    {
     "name": "stderr",
     "output_type": "stream",
     "text": [
      "100%|██████████| 100/100 [00:27<00:00,  3.68it/s]\n"
     ]
    },
    {
     "name": "stdout",
     "output_type": "stream",
     "text": [
      "Moyenne des récompenses: -7.59, Taux de réussite: 63.00%\n",
      "Nouveau modèle sauvegardé: récompense moyenne = -7.59\n",
      "Groupe d'épisodes 32/50, Complexité: 0.72, 20x9, 19 walls\n"
     ]
    },
    {
     "name": "stderr",
     "output_type": "stream",
     "text": [
      "100%|██████████| 100/100 [00:26<00:00,  3.72it/s]\n"
     ]
    },
    {
     "name": "stdout",
     "output_type": "stream",
     "text": [
      "Moyenne des récompenses: -9.79, Taux de réussite: 69.00%\n",
      "Groupe d'épisodes 33/50, Complexité: 0.72, 20x9, 19 walls\n"
     ]
    },
    {
     "name": "stderr",
     "output_type": "stream",
     "text": [
      "100%|██████████| 100/100 [00:27<00:00,  3.65it/s]\n"
     ]
    },
    {
     "name": "stdout",
     "output_type": "stream",
     "text": [
      "Moyenne des récompenses: -8.38, Taux de réussite: 72.00%\n",
      "Groupe d'épisodes 34/50, Complexité: 0.72, 20x9, 19 walls\n"
     ]
    },
    {
     "name": "stderr",
     "output_type": "stream",
     "text": [
      "100%|██████████| 100/100 [00:27<00:00,  3.61it/s]\n"
     ]
    },
    {
     "name": "stdout",
     "output_type": "stream",
     "text": [
      "Moyenne des récompenses: -5.50, Taux de réussite: 70.00%\n",
      "Groupe d'épisodes 35/50, Complexité: 0.72, 20x9, 19 walls\n"
     ]
    },
    {
     "name": "stderr",
     "output_type": "stream",
     "text": [
      "100%|██████████| 100/100 [00:26<00:00,  3.76it/s]\n"
     ]
    },
    {
     "name": "stdout",
     "output_type": "stream",
     "text": [
      "Moyenne des récompenses: -3.85, Taux de réussite: 77.00%\n",
      "Groupe d'épisodes 36/50, Complexité: 0.72, 20x9, 19 walls\n"
     ]
    },
    {
     "name": "stderr",
     "output_type": "stream",
     "text": [
      "100%|██████████| 100/100 [00:27<00:00,  3.57it/s]\n"
     ]
    },
    {
     "name": "stdout",
     "output_type": "stream",
     "text": [
      "Moyenne des récompenses: -6.32, Taux de réussite: 65.00%\n",
      "Pas d'amélioration depuis 5 groupes. Réinitialisation partielle...\n",
      "Groupe d'épisodes 37/50, Complexité: 0.62, 20x9, 15 walls\n"
     ]
    },
    {
     "name": "stderr",
     "output_type": "stream",
     "text": [
      "100%|██████████| 100/100 [00:16<00:00,  5.98it/s]\n"
     ]
    },
    {
     "name": "stdout",
     "output_type": "stream",
     "text": [
      "Moyenne des récompenses: -1.10, Taux de réussite: 92.00%\n",
      "Augmentation de la complexité à 0.67, 20x9, 17 walls, 2 towers\n",
      "Groupe d'épisodes 38/50, Complexité: 0.67, 20x9, 17 walls\n"
     ]
    },
    {
     "name": "stderr",
     "output_type": "stream",
     "text": [
      "100%|██████████| 100/100 [00:20<00:00,  4.94it/s]\n"
     ]
    },
    {
     "name": "stdout",
     "output_type": "stream",
     "text": [
      "Moyenne des récompenses: -2.21, Taux de réussite: 89.00%\n",
      "Augmentation de la complexité à 0.72, 20x9, 19 walls, 3 towers\n",
      "Groupe d'épisodes 39/50, Complexité: 0.72, 20x9, 19 walls\n"
     ]
    },
    {
     "name": "stderr",
     "output_type": "stream",
     "text": [
      "100%|██████████| 100/100 [00:25<00:00,  3.92it/s]\n"
     ]
    },
    {
     "name": "stdout",
     "output_type": "stream",
     "text": [
      "Moyenne des récompenses: -4.55, Taux de réussite: 76.00%\n",
      "Groupe d'épisodes 40/50, Complexité: 0.72, 20x9, 19 walls\n"
     ]
    },
    {
     "name": "stderr",
     "output_type": "stream",
     "text": [
      "100%|██████████| 100/100 [00:27<00:00,  3.66it/s]\n"
     ]
    },
    {
     "name": "stdout",
     "output_type": "stream",
     "text": [
      "Moyenne des récompenses: -10.34, Taux de réussite: 72.00%\n",
      "Groupe d'épisodes 41/50, Complexité: 0.72, 20x9, 19 walls\n"
     ]
    },
    {
     "name": "stderr",
     "output_type": "stream",
     "text": [
      "100%|██████████| 100/100 [00:27<00:00,  3.70it/s]\n"
     ]
    },
    {
     "name": "stdout",
     "output_type": "stream",
     "text": [
      "Moyenne des récompenses: -6.96, Taux de réussite: 70.00%\n",
      "Nouveau modèle sauvegardé: récompense moyenne = -6.96\n",
      "Groupe d'épisodes 42/50, Complexité: 0.72, 20x9, 19 walls\n"
     ]
    },
    {
     "name": "stderr",
     "output_type": "stream",
     "text": [
      "100%|██████████| 100/100 [00:27<00:00,  3.63it/s]\n"
     ]
    },
    {
     "name": "stdout",
     "output_type": "stream",
     "text": [
      "Moyenne des récompenses: -5.11, Taux de réussite: 69.00%\n",
      "Groupe d'épisodes 43/50, Complexité: 0.72, 20x9, 19 walls\n"
     ]
    },
    {
     "name": "stderr",
     "output_type": "stream",
     "text": [
      "100%|██████████| 100/100 [00:27<00:00,  3.59it/s]\n"
     ]
    },
    {
     "name": "stdout",
     "output_type": "stream",
     "text": [
      "Moyenne des récompenses: -8.09, Taux de réussite: 70.00%\n",
      "Groupe d'épisodes 44/50, Complexité: 0.72, 20x9, 19 walls\n"
     ]
    },
    {
     "name": "stderr",
     "output_type": "stream",
     "text": [
      "100%|██████████| 100/100 [00:28<00:00,  3.56it/s]\n"
     ]
    },
    {
     "name": "stdout",
     "output_type": "stream",
     "text": [
      "Moyenne des récompenses: -4.23, Taux de réussite: 70.00%\n",
      "Groupe d'épisodes 45/50, Complexité: 0.72, 20x9, 19 walls\n"
     ]
    },
    {
     "name": "stderr",
     "output_type": "stream",
     "text": [
      "100%|██████████| 100/100 [00:28<00:00,  3.48it/s]\n"
     ]
    },
    {
     "name": "stdout",
     "output_type": "stream",
     "text": [
      "Moyenne des récompenses: -6.40, Taux de réussite: 65.00%\n",
      "Groupe d'épisodes 46/50, Complexité: 0.72, 20x9, 19 walls\n"
     ]
    },
    {
     "name": "stderr",
     "output_type": "stream",
     "text": [
      "100%|██████████| 100/100 [00:27<00:00,  3.65it/s]\n"
     ]
    },
    {
     "name": "stdout",
     "output_type": "stream",
     "text": [
      "Moyenne des récompenses: -6.78, Taux de réussite: 68.00%\n",
      "Pas d'amélioration depuis 5 groupes. Réinitialisation partielle...\n",
      "Groupe d'épisodes 47/50, Complexité: 0.62, 20x9, 15 walls\n"
     ]
    },
    {
     "name": "stderr",
     "output_type": "stream",
     "text": [
      "100%|██████████| 100/100 [00:16<00:00,  6.03it/s]\n"
     ]
    },
    {
     "name": "stdout",
     "output_type": "stream",
     "text": [
      "Moyenne des récompenses: 1.28, Taux de réussite: 94.00%\n",
      "Augmentation de la complexité à 0.67, 20x9, 17 walls, 2 towers\n",
      "Groupe d'épisodes 48/50, Complexité: 0.67, 20x9, 17 walls\n"
     ]
    },
    {
     "name": "stderr",
     "output_type": "stream",
     "text": [
      "100%|██████████| 100/100 [00:20<00:00,  4.87it/s]\n"
     ]
    },
    {
     "name": "stdout",
     "output_type": "stream",
     "text": [
      "Moyenne des récompenses: -3.53, Taux de réussite: 91.00%\n",
      "Augmentation de la complexité à 0.72, 20x9, 19 walls, 3 towers\n",
      "Groupe d'épisodes 49/50, Complexité: 0.72, 20x9, 19 walls\n"
     ]
    },
    {
     "name": "stderr",
     "output_type": "stream",
     "text": [
      "100%|██████████| 100/100 [00:27<00:00,  3.61it/s]\n"
     ]
    },
    {
     "name": "stdout",
     "output_type": "stream",
     "text": [
      "Moyenne des récompenses: -4.88, Taux de réussite: 67.00%\n",
      "Groupe d'épisodes 50/50, Complexité: 0.72, 20x9, 19 walls\n"
     ]
    },
    {
     "name": "stderr",
     "output_type": "stream",
     "text": [
      "100%|██████████| 100/100 [00:29<00:00,  3.35it/s]"
     ]
    },
    {
     "name": "stdout",
     "output_type": "stream",
     "text": [
      "Moyenne des récompenses: -7.60, Taux de réussite: 64.00%\n"
     ]
    },
    {
     "name": "stderr",
     "output_type": "stream",
     "text": [
      "\n"
     ]
    }
   ],
   "source": [
    "if __name__ == \"__main__\":\n",
    "\n",
    "    np.random.seed(42)\n",
    "    random.seed(42)\n",
    "    torch.manual_seed(42)\n",
    "    \n",
    "    env_params = {\n",
    "        'rows': 20,\n",
    "        'cols': 9,\n",
    "        'num_walls': 15,\n",
    "        'tower_penalty': -5.5, \n",
    "        'tower_timer': 25,\n",
    "        'retour':True,\n",
    "        'broken':False, \n",
    "        'tower_destroy_reward':0.0,\n",
    "        'num_towers':1\n",
    "    }\n",
    "    \n",
    "    sample_env = create_random_env(**env_params)\n",
    "    state_size = len(sample_env.get_state_representation())\n",
    "    action_size = 5 \n",
    "    \n",
    "    print(f\"Taille de l'état: {state_size}, Nombre d'actions: {action_size}\")\n",
    "    print(\"Exemple d'environnement:\")\n",
    "    visualize_env(sample_env)\n",
    "    \n",
    "    agent = DQNAgent(state_size, action_size, hidden_sizes=[128, 128], lr=0.0003)\n",
    "    \n",
    "    # Entraînement avec curriculum learning\n",
    "    print(\"\\nDébut de l'entraînement avec curriculum learning...\")\n",
    "    num_episodes = 5000  \n",
    "    rewards_history = train_dqn_agent_curriculum(env_params, agent, num_episodes)"
   ]
  },
  {
   "cell_type": "code",
   "execution_count": 43,
   "metadata": {
    "execution": {
     "iopub.execute_input": "2025-05-02T08:51:22.446526Z",
     "iopub.status.busy": "2025-05-02T08:51:22.446229Z",
     "iopub.status.idle": "2025-05-02T08:51:49.897986Z",
     "shell.execute_reply": "2025-05-02T08:51:49.897335Z",
     "shell.execute_reply.started": "2025-05-02T08:51:22.446504Z"
    },
    "trusted": true
   },
   "outputs": [
    {
     "name": "stdout",
     "output_type": "stream",
     "text": [
      "\n",
      "Test sur un labyrinthe simple:\n",
      "Test sur un nouveau labyrinthe 20x9 avec 28 murs:\n"
     ]
    },
    {
     "data": {
      "image/png": "[encoded data removed]",
      "text/plain": [
       "<Figure size 600x600 with 1 Axes>"
      ]
     },
     "metadata": {},
     "output_type": "display_data"
    },
    {
     "name": "stdout",
     "output_type": "stream",
     "text": [
      "Agent a réussi en 93 pas avec une récompense de 0.35\n",
      "Moviepy - Building video dqn_maze_20x9.mp4.\n",
      "Moviepy - Writing video dqn_maze_20x9.mp4\n",
      "\n"
     ]
    },
    {
     "name": "stderr",
     "output_type": "stream",
     "text": [
      "                                                            \r"
     ]
    },
    {
     "name": "stdout",
     "output_type": "stream",
     "text": [
      "Moviepy - Done !\n",
      "Moviepy - video ready dqn_maze_20x9.mp4\n"
     ]
    },
    {
     "data": {
      "text/html": [
       "\n",
       "    <video width=\"500\" height=\"500\" controls>\n",
       "        <source src=\"dqn_maze_20x9.mp4\" type=\"video/mp4\">\n",
       "    </video>\n",
       "    "
      ],
      "text/plain": [
       "<IPython.core.display.HTML object>"
      ]
     },
     "execution_count": 43,
     "metadata": {},
     "output_type": "execute_result"
    }
   ],
   "source": [
    "# Test sur un labyrinthe simple\n",
    "print(\"\\nTest sur un labyrinthe simple:\")\n",
    "_, _, _, video = test_agent_on_new_maze(agent, rows=20, cols=9, num_walls=10, complexity=1.0, tower_penalty=-5.5, tower_timer=50, num_towers=3, retour=True, seed=2)\n",
    "video"
   ]
  },
  {
   "cell_type": "code",
   "execution_count": null,
   "metadata": {
    "execution": {
     "iopub.execute_input": "2025-05-02T08:50:38.816255Z",
     "iopub.status.busy": "2025-05-02T08:50:38.815898Z",
     "iopub.status.idle": "2025-05-02T08:50:39.169711Z",
     "shell.execute_reply": "2025-05-02T08:50:39.168828Z",
     "shell.execute_reply.started": "2025-05-02T08:50:38.816223Z"
    },
    "trusted": true
   },
   "outputs": [
    {
     "name": "stdout",
     "output_type": "stream",
     "text": [
      "Modèle exporté avec succès dans dqn_tower.onnx\n",
      "Vérification du modèle ONNX réussie!\n"
     ]
    }
   ],
   "source": [
    "export_model_to_onnx(agent, \"dqn_tower.onnx\")\n",
    "\n",
    "torch.save({\n",
    "    'state_dict': agent.policy_net.state_dict(),\n",
    "    'optimizer': agent.optimizer.state_dict(),\n",
    "    'state_size': agent.state_size,\n",
    "    'action_size': agent.action_size,\n",
    "    'hidden_sizes': [128, 128]\n",
    "}, \"dqn_tower.pt\")"
   ]
  },
  {
   "cell_type": "markdown",
   "metadata": {},
   "source": [
    "# IGNORE TOWER"
   ]
  },
  {
   "cell_type": "code",
   "execution_count": null,
   "metadata": {
    "execution": {
     "iopub.execute_input": "2025-05-02T08:55:00.958304Z",
     "iopub.status.busy": "2025-05-02T08:55:00.957938Z",
     "iopub.status.idle": "2025-05-02T09:07:35.135362Z",
     "shell.execute_reply": "2025-05-02T09:07:35.134434Z",
     "shell.execute_reply.started": "2025-05-02T08:55:00.958279Z"
    },
    "scrolled": true,
    "trusted": true
   },
   "outputs": [
    {
     "name": "stdout",
     "output_type": "stream",
     "text": [
      "Taille de l'état: 254, Nombre d'actions: 5\n",
      "Exemple d'environnement:\n"
     ]
    },
    {
     "data": {
      "image/png": "[encoded data removed]",
      "text/plain": [
       "<Figure size 600x600 with 1 Axes>"
      ]
     },
     "metadata": {},
     "output_type": "display_data"
    },
    {
     "name": "stdout",
     "output_type": "stream",
     "text": [
      "\n",
      "Début de l'entraînement avec curriculum learning...\n",
      "Groupe d'épisodes 1/50, Complexité: 0.50, 20x9, 15 walls\n"
     ]
    },
    {
     "name": "stderr",
     "output_type": "stream",
     "text": [
      "100%|██████████| 100/100 [00:16<00:00,  6.03it/s]\n"
     ]
    },
    {
     "name": "stdout",
     "output_type": "stream",
     "text": [
      "Moyenne des récompenses: -12.10, Taux de réussite: 1.00%\n",
      "Nouveau modèle sauvegardé: récompense moyenne = -12.10\n",
      "Réduction de la complexité à 0.47, 20x9, 13 walls, 1 towers\n",
      "Groupe d'épisodes 2/50, Complexité: 0.47, 20x9, 13 walls\n"
     ]
    },
    {
     "name": "stderr",
     "output_type": "stream",
     "text": [
      "100%|██████████| 100/100 [00:13<00:00,  7.36it/s]\n"
     ]
    },
    {
     "name": "stdout",
     "output_type": "stream",
     "text": [
      "Moyenne des récompenses: 2.22, Taux de réussite: 70.00%\n",
      "Nouveau modèle sauvegardé: récompense moyenne = 2.22\n",
      "Groupe d'épisodes 3/50, Complexité: 0.47, 20x9, 13 walls\n"
     ]
    },
    {
     "name": "stderr",
     "output_type": "stream",
     "text": [
      "100%|██████████| 100/100 [00:09<00:00, 10.15it/s]\n"
     ]
    },
    {
     "name": "stdout",
     "output_type": "stream",
     "text": [
      "Moyenne des récompenses: 6.40, Taux de réussite: 95.00%\n",
      "Nouveau modèle sauvegardé: récompense moyenne = 6.40\n",
      "Augmentation de la complexité à 0.52, 20x9, 15 walls, 2 towers\n",
      "Groupe d'épisodes 4/50, Complexité: 0.52, 20x9, 15 walls\n"
     ]
    },
    {
     "name": "stderr",
     "output_type": "stream",
     "text": [
      "100%|██████████| 100/100 [00:09<00:00, 10.39it/s]\n"
     ]
    },
    {
     "name": "stdout",
     "output_type": "stream",
     "text": [
      "Moyenne des récompenses: 6.42, Taux de réussite: 93.00%\n",
      "Nouveau modèle sauvegardé: récompense moyenne = 6.42\n",
      "Augmentation de la complexité à 0.57, 20x9, 17 walls, 3 towers\n",
      "Groupe d'épisodes 5/50, Complexité: 0.57, 20x9, 17 walls\n"
     ]
    },
    {
     "name": "stderr",
     "output_type": "stream",
     "text": [
      "100%|██████████| 100/100 [00:10<00:00,  9.83it/s]\n"
     ]
    },
    {
     "name": "stdout",
     "output_type": "stream",
     "text": [
      "Moyenne des récompenses: 4.11, Taux de réussite: 85.00%\n",
      "Augmentation de la complexité à 0.62, 20x9, 19 walls, 4 towers\n",
      "Groupe d'épisodes 6/50, Complexité: 0.62, 20x9, 19 walls\n"
     ]
    },
    {
     "name": "stderr",
     "output_type": "stream",
     "text": [
      "100%|██████████| 100/100 [00:13<00:00,  7.20it/s]\n"
     ]
    },
    {
     "name": "stdout",
     "output_type": "stream",
     "text": [
      "Moyenne des récompenses: -1.56, Taux de réussite: 65.00%\n",
      "Groupe d'épisodes 7/50, Complexité: 0.62, 20x9, 19 walls\n"
     ]
    },
    {
     "name": "stderr",
     "output_type": "stream",
     "text": [
      "100%|██████████| 100/100 [00:11<00:00,  8.77it/s]\n"
     ]
    },
    {
     "name": "stdout",
     "output_type": "stream",
     "text": [
      "Moyenne des récompenses: 3.57, Taux de réussite: 81.00%\n",
      "Augmentation de la complexité à 0.67, 20x9, 21 walls, 5 towers\n",
      "Groupe d'épisodes 8/50, Complexité: 0.67, 20x9, 21 walls\n"
     ]
    },
    {
     "name": "stderr",
     "output_type": "stream",
     "text": [
      "100%|██████████| 100/100 [00:13<00:00,  7.61it/s]\n"
     ]
    },
    {
     "name": "stdout",
     "output_type": "stream",
     "text": [
      "Moyenne des récompenses: -0.30, Taux de réussite: 70.00%\n",
      "Groupe d'épisodes 9/50, Complexité: 0.67, 20x9, 21 walls\n"
     ]
    },
    {
     "name": "stderr",
     "output_type": "stream",
     "text": [
      "100%|██████████| 100/100 [00:18<00:00,  5.42it/s]\n"
     ]
    },
    {
     "name": "stdout",
     "output_type": "stream",
     "text": [
      "Moyenne des récompenses: -4.88, Taux de réussite: 40.00%\n",
      "Pas d'amélioration depuis 5 groupes. Réinitialisation partielle...\n",
      "Groupe d'épisodes 10/50, Complexité: 0.57, 20x9, 15 walls\n"
     ]
    },
    {
     "name": "stderr",
     "output_type": "stream",
     "text": [
      "100%|██████████| 100/100 [00:09<00:00, 10.92it/s]\n"
     ]
    },
    {
     "name": "stdout",
     "output_type": "stream",
     "text": [
      "Moyenne des récompenses: 6.32, Taux de réussite: 91.00%\n",
      "Augmentation de la complexité à 0.62, 20x9, 17 walls, 2 towers\n",
      "Groupe d'épisodes 11/50, Complexité: 0.62, 20x9, 17 walls\n"
     ]
    },
    {
     "name": "stderr",
     "output_type": "stream",
     "text": [
      "100%|██████████| 100/100 [00:10<00:00,  9.68it/s]\n"
     ]
    },
    {
     "name": "stdout",
     "output_type": "stream",
     "text": [
      "Moyenne des récompenses: 6.16, Taux de réussite: 89.00%\n",
      "Nouveau modèle sauvegardé: récompense moyenne = 6.16\n",
      "Augmentation de la complexité à 0.67, 20x9, 19 walls, 3 towers\n",
      "Groupe d'épisodes 12/50, Complexité: 0.67, 20x9, 19 walls\n"
     ]
    },
    {
     "name": "stderr",
     "output_type": "stream",
     "text": [
      "100%|██████████| 100/100 [00:14<00:00,  7.05it/s]\n"
     ]
    },
    {
     "name": "stdout",
     "output_type": "stream",
     "text": [
      "Moyenne des récompenses: 2.34, Taux de réussite: 74.00%\n",
      "Groupe d'épisodes 13/50, Complexité: 0.67, 20x9, 19 walls\n"
     ]
    },
    {
     "name": "stderr",
     "output_type": "stream",
     "text": [
      "100%|██████████| 100/100 [00:12<00:00,  7.96it/s]\n"
     ]
    },
    {
     "name": "stdout",
     "output_type": "stream",
     "text": [
      "Moyenne des récompenses: 2.45, Taux de réussite: 74.00%\n",
      "Groupe d'épisodes 14/50, Complexité: 0.67, 20x9, 19 walls\n"
     ]
    },
    {
     "name": "stderr",
     "output_type": "stream",
     "text": [
      "100%|██████████| 100/100 [00:12<00:00,  8.19it/s]\n"
     ]
    },
    {
     "name": "stdout",
     "output_type": "stream",
     "text": [
      "Moyenne des récompenses: 5.65, Taux de réussite: 83.00%\n",
      "Augmentation de la complexité à 0.72, 20x9, 21 walls, 4 towers\n",
      "Groupe d'épisodes 15/50, Complexité: 0.72, 20x9, 21 walls\n"
     ]
    },
    {
     "name": "stderr",
     "output_type": "stream",
     "text": [
      "100%|██████████| 100/100 [00:16<00:00,  6.13it/s]\n"
     ]
    },
    {
     "name": "stdout",
     "output_type": "stream",
     "text": [
      "Moyenne des récompenses: -0.93, Taux de réussite: 63.00%\n",
      "Groupe d'épisodes 16/50, Complexité: 0.72, 20x9, 21 walls\n"
     ]
    },
    {
     "name": "stderr",
     "output_type": "stream",
     "text": [
      "100%|██████████| 100/100 [00:17<00:00,  5.66it/s]\n"
     ]
    },
    {
     "name": "stdout",
     "output_type": "stream",
     "text": [
      "Moyenne des récompenses: -1.67, Taux de réussite: 61.00%\n",
      "Pas d'amélioration depuis 5 groupes. Réinitialisation partielle...\n",
      "Groupe d'épisodes 17/50, Complexité: 0.62, 20x9, 15 walls\n"
     ]
    },
    {
     "name": "stderr",
     "output_type": "stream",
     "text": [
      "100%|██████████| 100/100 [00:09<00:00, 10.03it/s]\n"
     ]
    },
    {
     "name": "stdout",
     "output_type": "stream",
     "text": [
      "Moyenne des récompenses: 7.00, Taux de réussite: 94.00%\n",
      "Nouveau modèle sauvegardé: récompense moyenne = 7.00\n",
      "Augmentation de la complexité à 0.67, 20x9, 17 walls, 2 towers\n",
      "Groupe d'épisodes 18/50, Complexité: 0.67, 20x9, 17 walls\n"
     ]
    },
    {
     "name": "stderr",
     "output_type": "stream",
     "text": [
      "100%|██████████| 100/100 [00:10<00:00,  9.73it/s]\n"
     ]
    },
    {
     "name": "stdout",
     "output_type": "stream",
     "text": [
      "Moyenne des récompenses: 7.00, Taux de réussite: 92.00%\n",
      "Nouveau modèle sauvegardé: récompense moyenne = 7.00\n",
      "Augmentation de la complexité à 0.72, 20x9, 19 walls, 3 towers\n",
      "Groupe d'épisodes 19/50, Complexité: 0.72, 20x9, 19 walls\n"
     ]
    },
    {
     "name": "stderr",
     "output_type": "stream",
     "text": [
      "100%|██████████| 100/100 [00:16<00:00,  5.90it/s]\n"
     ]
    },
    {
     "name": "stdout",
     "output_type": "stream",
     "text": [
      "Moyenne des récompenses: 1.64, Taux de réussite: 69.00%\n",
      "Groupe d'épisodes 20/50, Complexité: 0.72, 20x9, 19 walls\n"
     ]
    },
    {
     "name": "stderr",
     "output_type": "stream",
     "text": [
      "100%|██████████| 100/100 [00:15<00:00,  6.39it/s]\n"
     ]
    },
    {
     "name": "stdout",
     "output_type": "stream",
     "text": [
      "Moyenne des récompenses: 2.86, Taux de réussite: 75.00%\n",
      "Groupe d'épisodes 21/50, Complexité: 0.72, 20x9, 19 walls\n"
     ]
    },
    {
     "name": "stderr",
     "output_type": "stream",
     "text": [
      "100%|██████████| 100/100 [00:17<00:00,  5.80it/s]\n"
     ]
    },
    {
     "name": "stdout",
     "output_type": "stream",
     "text": [
      "Moyenne des récompenses: 1.21, Taux de réussite: 67.00%\n",
      "Nouveau modèle sauvegardé: récompense moyenne = 1.21\n",
      "Groupe d'épisodes 22/50, Complexité: 0.72, 20x9, 19 walls\n"
     ]
    },
    {
     "name": "stderr",
     "output_type": "stream",
     "text": [
      "100%|██████████| 100/100 [00:16<00:00,  5.98it/s]\n"
     ]
    },
    {
     "name": "stdout",
     "output_type": "stream",
     "text": [
      "Moyenne des récompenses: 1.70, Taux de réussite: 71.00%\n",
      "Groupe d'épisodes 23/50, Complexité: 0.72, 20x9, 19 walls\n"
     ]
    },
    {
     "name": "stderr",
     "output_type": "stream",
     "text": [
      "100%|██████████| 100/100 [00:18<00:00,  5.34it/s]\n"
     ]
    },
    {
     "name": "stdout",
     "output_type": "stream",
     "text": [
      "Moyenne des récompenses: -0.76, Taux de réussite: 64.00%\n",
      "Groupe d'épisodes 24/50, Complexité: 0.72, 20x9, 19 walls\n"
     ]
    },
    {
     "name": "stderr",
     "output_type": "stream",
     "text": [
      "100%|██████████| 100/100 [00:17<00:00,  5.83it/s]\n"
     ]
    },
    {
     "name": "stdout",
     "output_type": "stream",
     "text": [
      "Moyenne des récompenses: 0.61, Taux de réussite: 67.00%\n",
      "Groupe d'épisodes 25/50, Complexité: 0.72, 20x9, 19 walls\n"
     ]
    },
    {
     "name": "stderr",
     "output_type": "stream",
     "text": [
      "100%|██████████| 100/100 [00:16<00:00,  6.18it/s]\n"
     ]
    },
    {
     "name": "stdout",
     "output_type": "stream",
     "text": [
      "Moyenne des récompenses: 2.50, Taux de réussite: 72.00%\n",
      "Groupe d'épisodes 26/50, Complexité: 0.72, 20x9, 19 walls\n"
     ]
    },
    {
     "name": "stderr",
     "output_type": "stream",
     "text": [
      "100%|██████████| 100/100 [00:16<00:00,  5.92it/s]\n"
     ]
    },
    {
     "name": "stdout",
     "output_type": "stream",
     "text": [
      "Moyenne des récompenses: 1.80, Taux de réussite: 69.00%\n",
      "Pas d'amélioration depuis 5 groupes. Réinitialisation partielle...\n",
      "Groupe d'épisodes 27/50, Complexité: 0.62, 20x9, 15 walls\n"
     ]
    },
    {
     "name": "stderr",
     "output_type": "stream",
     "text": [
      "100%|██████████| 100/100 [00:10<00:00,  9.14it/s]\n"
     ]
    },
    {
     "name": "stdout",
     "output_type": "stream",
     "text": [
      "Moyenne des récompenses: 6.69, Taux de réussite: 89.00%\n",
      "Augmentation de la complexité à 0.67, 20x9, 17 walls, 2 towers\n",
      "Groupe d'épisodes 28/50, Complexité: 0.67, 20x9, 17 walls\n"
     ]
    },
    {
     "name": "stderr",
     "output_type": "stream",
     "text": [
      "100%|██████████| 100/100 [00:11<00:00,  8.72it/s]\n"
     ]
    },
    {
     "name": "stdout",
     "output_type": "stream",
     "text": [
      "Moyenne des récompenses: 6.60, Taux de réussite: 87.00%\n",
      "Augmentation de la complexité à 0.72, 20x9, 19 walls, 3 towers\n",
      "Groupe d'épisodes 29/50, Complexité: 0.72, 20x9, 19 walls\n"
     ]
    },
    {
     "name": "stderr",
     "output_type": "stream",
     "text": [
      "100%|██████████| 100/100 [00:16<00:00,  6.16it/s]\n"
     ]
    },
    {
     "name": "stdout",
     "output_type": "stream",
     "text": [
      "Moyenne des récompenses: 2.98, Taux de réussite: 75.00%\n",
      "Groupe d'épisodes 30/50, Complexité: 0.72, 20x9, 19 walls\n"
     ]
    },
    {
     "name": "stderr",
     "output_type": "stream",
     "text": [
      "100%|██████████| 100/100 [00:16<00:00,  5.93it/s]\n"
     ]
    },
    {
     "name": "stdout",
     "output_type": "stream",
     "text": [
      "Moyenne des récompenses: 2.15, Taux de réussite: 68.00%\n",
      "Groupe d'épisodes 31/50, Complexité: 0.72, 20x9, 19 walls\n"
     ]
    },
    {
     "name": "stderr",
     "output_type": "stream",
     "text": [
      "100%|██████████| 100/100 [00:16<00:00,  5.98it/s]\n"
     ]
    },
    {
     "name": "stdout",
     "output_type": "stream",
     "text": [
      "Moyenne des récompenses: 3.10, Taux de réussite: 75.00%\n",
      "Nouveau modèle sauvegardé: récompense moyenne = 3.10\n",
      "Groupe d'épisodes 32/50, Complexité: 0.72, 20x9, 19 walls\n"
     ]
    },
    {
     "name": "stderr",
     "output_type": "stream",
     "text": [
      "100%|██████████| 100/100 [00:15<00:00,  6.39it/s]\n"
     ]
    },
    {
     "name": "stdout",
     "output_type": "stream",
     "text": [
      "Moyenne des récompenses: 3.81, Taux de réussite: 77.00%\n",
      "Groupe d'épisodes 33/50, Complexité: 0.72, 20x9, 19 walls\n"
     ]
    },
    {
     "name": "stderr",
     "output_type": "stream",
     "text": [
      "100%|██████████| 100/100 [00:16<00:00,  6.17it/s]\n"
     ]
    },
    {
     "name": "stdout",
     "output_type": "stream",
     "text": [
      "Moyenne des récompenses: 4.32, Taux de réussite: 77.00%\n",
      "Groupe d'épisodes 34/50, Complexité: 0.72, 20x9, 19 walls\n"
     ]
    },
    {
     "name": "stderr",
     "output_type": "stream",
     "text": [
      "100%|██████████| 100/100 [00:17<00:00,  5.76it/s]\n"
     ]
    },
    {
     "name": "stdout",
     "output_type": "stream",
     "text": [
      "Moyenne des récompenses: 1.97, Taux de réussite: 73.00%\n",
      "Groupe d'épisodes 35/50, Complexité: 0.72, 20x9, 19 walls\n"
     ]
    },
    {
     "name": "stderr",
     "output_type": "stream",
     "text": [
      "100%|██████████| 100/100 [00:18<00:00,  5.51it/s]\n"
     ]
    },
    {
     "name": "stdout",
     "output_type": "stream",
     "text": [
      "Moyenne des récompenses: 2.20, Taux de réussite: 73.00%\n",
      "Groupe d'épisodes 36/50, Complexité: 0.72, 20x9, 19 walls\n"
     ]
    },
    {
     "name": "stderr",
     "output_type": "stream",
     "text": [
      "100%|██████████| 100/100 [00:16<00:00,  6.11it/s]\n"
     ]
    },
    {
     "name": "stdout",
     "output_type": "stream",
     "text": [
      "Moyenne des récompenses: 3.90, Taux de réussite: 76.00%\n",
      "Pas d'amélioration depuis 5 groupes. Réinitialisation partielle...\n",
      "Groupe d'épisodes 37/50, Complexité: 0.62, 20x9, 15 walls\n"
     ]
    },
    {
     "name": "stderr",
     "output_type": "stream",
     "text": [
      "100%|██████████| 100/100 [00:09<00:00, 10.39it/s]\n"
     ]
    },
    {
     "name": "stdout",
     "output_type": "stream",
     "text": [
      "Moyenne des récompenses: 9.54, Taux de réussite: 97.00%\n",
      "Nouveau modèle sauvegardé: récompense moyenne = 9.54\n",
      "Augmentation de la complexité à 0.67, 20x9, 17 walls, 2 towers\n",
      "Groupe d'épisodes 38/50, Complexité: 0.67, 20x9, 17 walls\n"
     ]
    },
    {
     "name": "stderr",
     "output_type": "stream",
     "text": [
      "100%|██████████| 100/100 [00:12<00:00,  7.88it/s]\n"
     ]
    },
    {
     "name": "stdout",
     "output_type": "stream",
     "text": [
      "Moyenne des récompenses: 6.39, Taux de réussite: 87.00%\n",
      "Augmentation de la complexité à 0.72, 20x9, 19 walls, 3 towers\n",
      "Groupe d'épisodes 39/50, Complexité: 0.72, 20x9, 19 walls\n"
     ]
    },
    {
     "name": "stderr",
     "output_type": "stream",
     "text": [
      "100%|██████████| 100/100 [00:17<00:00,  5.57it/s]\n"
     ]
    },
    {
     "name": "stdout",
     "output_type": "stream",
     "text": [
      "Moyenne des récompenses: 1.93, Taux de réussite: 69.00%\n",
      "Groupe d'épisodes 40/50, Complexité: 0.72, 20x9, 19 walls\n"
     ]
    },
    {
     "name": "stderr",
     "output_type": "stream",
     "text": [
      "100%|██████████| 100/100 [00:18<00:00,  5.49it/s]\n"
     ]
    },
    {
     "name": "stdout",
     "output_type": "stream",
     "text": [
      "Moyenne des récompenses: 1.57, Taux de réussite: 68.00%\n",
      "Groupe d'épisodes 41/50, Complexité: 0.72, 20x9, 19 walls\n"
     ]
    },
    {
     "name": "stderr",
     "output_type": "stream",
     "text": [
      "100%|██████████| 100/100 [00:18<00:00,  5.40it/s]\n"
     ]
    },
    {
     "name": "stdout",
     "output_type": "stream",
     "text": [
      "Moyenne des récompenses: 1.80, Taux de réussite: 67.00%\n",
      "Nouveau modèle sauvegardé: récompense moyenne = 1.80\n",
      "Groupe d'épisodes 42/50, Complexité: 0.72, 20x9, 19 walls\n"
     ]
    },
    {
     "name": "stderr",
     "output_type": "stream",
     "text": [
      "100%|██████████| 100/100 [00:18<00:00,  5.53it/s]\n"
     ]
    },
    {
     "name": "stdout",
     "output_type": "stream",
     "text": [
      "Moyenne des récompenses: 2.33, Taux de réussite: 72.00%\n",
      "Groupe d'épisodes 43/50, Complexité: 0.72, 20x9, 19 walls\n"
     ]
    },
    {
     "name": "stderr",
     "output_type": "stream",
     "text": [
      "100%|██████████| 100/100 [00:19<00:00,  5.23it/s]\n"
     ]
    },
    {
     "name": "stdout",
     "output_type": "stream",
     "text": [
      "Moyenne des récompenses: 2.18, Taux de réussite: 70.00%\n",
      "Groupe d'épisodes 44/50, Complexité: 0.72, 20x9, 19 walls\n"
     ]
    },
    {
     "name": "stderr",
     "output_type": "stream",
     "text": [
      "100%|██████████| 100/100 [00:20<00:00,  4.98it/s]\n"
     ]
    },
    {
     "name": "stdout",
     "output_type": "stream",
     "text": [
      "Moyenne des récompenses: 2.00, Taux de réussite: 71.00%\n",
      "Groupe d'épisodes 45/50, Complexité: 0.72, 20x9, 19 walls\n"
     ]
    },
    {
     "name": "stderr",
     "output_type": "stream",
     "text": [
      "100%|██████████| 100/100 [00:18<00:00,  5.27it/s]\n"
     ]
    },
    {
     "name": "stdout",
     "output_type": "stream",
     "text": [
      "Moyenne des récompenses: 2.08, Taux de réussite: 72.00%\n",
      "Groupe d'épisodes 46/50, Complexité: 0.72, 20x9, 19 walls\n"
     ]
    },
    {
     "name": "stderr",
     "output_type": "stream",
     "text": [
      "100%|██████████| 100/100 [00:15<00:00,  6.35it/s]\n"
     ]
    },
    {
     "name": "stdout",
     "output_type": "stream",
     "text": [
      "Moyenne des récompenses: 5.52, Taux de réussite: 84.00%\n",
      "Augmentation de la complexité à 0.77, 20x9, 21 walls, 4 towers\n",
      "Pas d'amélioration depuis 5 groupes. Réinitialisation partielle...\n",
      "Groupe d'épisodes 47/50, Complexité: 0.67, 20x9, 15 walls\n"
     ]
    },
    {
     "name": "stderr",
     "output_type": "stream",
     "text": [
      "100%|██████████| 100/100 [00:10<00:00,  9.58it/s]\n"
     ]
    },
    {
     "name": "stdout",
     "output_type": "stream",
     "text": [
      "Moyenne des récompenses: 7.43, Taux de réussite: 93.00%\n",
      "Augmentation de la complexité à 0.72, 20x9, 17 walls, 2 towers\n",
      "Groupe d'épisodes 48/50, Complexité: 0.72, 20x9, 17 walls\n"
     ]
    },
    {
     "name": "stderr",
     "output_type": "stream",
     "text": [
      "100%|██████████| 100/100 [00:13<00:00,  7.17it/s]\n"
     ]
    },
    {
     "name": "stdout",
     "output_type": "stream",
     "text": [
      "Moyenne des récompenses: 6.10, Taux de réussite: 87.00%\n",
      "Augmentation de la complexité à 0.77, 20x9, 19 walls, 3 towers\n",
      "Groupe d'épisodes 49/50, Complexité: 0.77, 20x9, 19 walls\n"
     ]
    },
    {
     "name": "stderr",
     "output_type": "stream",
     "text": [
      "100%|██████████| 100/100 [00:20<00:00,  4.82it/s]\n"
     ]
    },
    {
     "name": "stdout",
     "output_type": "stream",
     "text": [
      "Moyenne des récompenses: 1.57, Taux de réussite: 69.00%\n",
      "Groupe d'épisodes 50/50, Complexité: 0.77, 20x9, 19 walls\n"
     ]
    },
    {
     "name": "stderr",
     "output_type": "stream",
     "text": [
      "100%|██████████| 100/100 [00:18<00:00,  5.37it/s]"
     ]
    },
    {
     "name": "stdout",
     "output_type": "stream",
     "text": [
      "Moyenne des récompenses: 3.37, Taux de réussite: 73.00%\n"
     ]
    },
    {
     "name": "stderr",
     "output_type": "stream",
     "text": [
      "\n"
     ]
    }
   ],
   "source": [
    "if __name__ == \"__main__\":\n",
    "\n",
    "    np.random.seed(42)\n",
    "    random.seed(42)\n",
    "    torch.manual_seed(42)\n",
    "    \n",
    "    env_params = {\n",
    "        'rows': 20,\n",
    "        'cols': 9,\n",
    "        'num_walls': 15,\n",
    "        'tower_penalty': -0.0, \n",
    "        'tower_timer': 999,\n",
    "        'retour':False,\n",
    "        'broken':False, \n",
    "        'tower_destroy_reward':0.0,\n",
    "        'num_towers':1\n",
    "    }\n",
    "    \n",
    "    sample_env = create_random_env(**env_params)\n",
    "    state_size = len(sample_env.get_state_representation())\n",
    "    action_size = 5 \n",
    "    \n",
    "    print(f\"Taille de l'état: {state_size}, Nombre d'actions: {action_size}\")\n",
    "    print(\"Exemple d'environnement:\")\n",
    "    visualize_env(sample_env)\n",
    "    \n",
    "    agent = DQNAgent(state_size, action_size, hidden_sizes=[128, 128], lr=0.0003)\n",
    "    \n",
    "    print(\"\\nDébut de l'entraînement avec curriculum learning...\")\n",
    "    num_episodes = 5000 \n",
    "    rewards_history = train_dqn_agent_curriculum(env_params, agent, num_episodes)"
   ]
  },
  {
   "cell_type": "code",
   "execution_count": null,
   "metadata": {
    "execution": {
     "iopub.execute_input": "2025-05-02T09:07:35.136937Z",
     "iopub.status.busy": "2025-05-02T09:07:35.136692Z",
     "iopub.status.idle": "2025-05-02T09:07:42.297988Z",
     "shell.execute_reply": "2025-05-02T09:07:42.296995Z",
     "shell.execute_reply.started": "2025-05-02T09:07:35.136918Z"
    },
    "trusted": true
   },
   "outputs": [
    {
     "name": "stdout",
     "output_type": "stream",
     "text": [
      "\n",
      "Test sur un labyrinthe simple:\n",
      "Test sur un nouveau labyrinthe 20x9 avec 42 murs:\n"
     ]
    },
    {
     "data": {
      "image/png": "[encoded data removed]",
      "text/plain": [
       "<Figure size 600x600 with 1 Axes>"
      ]
     },
     "metadata": {},
     "output_type": "display_data"
    },
    {
     "name": "stdout",
     "output_type": "stream",
     "text": [
      "Agent a réussi en 23 pas avec une récompense de 10.74\n",
      "Moviepy - Building video dqn_maze_20x9.mp4.\n",
      "Moviepy - Writing video dqn_maze_20x9.mp4\n",
      "\n"
     ]
    },
    {
     "name": "stderr",
     "output_type": "stream",
     "text": [
      "                                                            \r"
     ]
    },
    {
     "name": "stdout",
     "output_type": "stream",
     "text": [
      "Moviepy - Done !\n",
      "Moviepy - video ready dqn_maze_20x9.mp4\n"
     ]
    },
    {
     "data": {
      "text/html": [
       "\n",
       "    <video width=\"500\" height=\"500\" controls>\n",
       "        <source src=\"dqn_maze_20x9.mp4\" type=\"video/mp4\">\n",
       "    </video>\n",
       "    "
      ],
      "text/plain": [
       "<IPython.core.display.HTML object>"
      ]
     },
     "execution_count": 45,
     "metadata": {},
     "output_type": "execute_result"
    }
   ],
   "source": [
    "print(\"\\nTest sur un labyrinthe simple:\")\n",
    "_, _, _, video = test_agent_on_new_maze(agent, rows=20, cols=9, num_walls=15, complexity=1.0, tower_penalty=-0.0, tower_timer=999, retour=False, seed=55)\n",
    "video"
   ]
  },
  {
   "cell_type": "code",
   "execution_count": null,
   "metadata": {
    "execution": {
     "iopub.execute_input": "2025-05-02T09:07:42.299117Z",
     "iopub.status.busy": "2025-05-02T09:07:42.298820Z",
     "iopub.status.idle": "2025-05-02T09:07:42.324445Z",
     "shell.execute_reply": "2025-05-02T09:07:42.323611Z",
     "shell.execute_reply.started": "2025-05-02T09:07:42.299087Z"
    },
    "trusted": true
   },
   "outputs": [
    {
     "name": "stdout",
     "output_type": "stream",
     "text": [
      "Modèle exporté avec succès dans dqn_base.onnx\n",
      "Vérification du modèle ONNX réussie!\n"
     ]
    }
   ],
   "source": [
    "export_model_to_onnx(agent, \"dqn_base.onnx\")\n",
    "\n",
    "torch.save({\n",
    "    'state_dict': agent.policy_net.state_dict(),\n",
    "    'optimizer': agent.optimizer.state_dict(),\n",
    "    'state_size': agent.state_size,\n",
    "    'action_size': agent.action_size,\n",
    "    'hidden_sizes': [128, 128] \n",
    "}, \"dqn_base.pt\")"
   ]
  },
  {
   "cell_type": "markdown",
   "metadata": {},
   "source": [
    "# BREAK TOWER"
   ]
  },
  {
   "cell_type": "code",
   "execution_count": null,
   "metadata": {
    "execution": {
     "iopub.execute_input": "2025-05-02T09:10:42.773869Z",
     "iopub.status.busy": "2025-05-02T09:10:42.773057Z",
     "iopub.status.idle": "2025-05-02T09:24:36.965705Z",
     "shell.execute_reply": "2025-05-02T09:24:36.964757Z",
     "shell.execute_reply.started": "2025-05-02T09:10:42.773835Z"
    },
    "scrolled": true,
    "trusted": true
   },
   "outputs": [
    {
     "name": "stdout",
     "output_type": "stream",
     "text": [
      "Taille de l'état: 254, Nombre d'actions: 5\n",
      "Exemple d'environnement:\n"
     ]
    },
    {
     "data": {
      "image/png": "[encoded data removed]",
      "text/plain": [
       "<Figure size 600x600 with 1 Axes>"
      ]
     },
     "metadata": {},
     "output_type": "display_data"
    },
    {
     "name": "stdout",
     "output_type": "stream",
     "text": [
      "\n",
      "Début de l'entraînement avec curriculum learning...\n",
      "Groupe d'épisodes 1/50, Complexité: 0.50, 20x9, 15 walls\n"
     ]
    },
    {
     "name": "stderr",
     "output_type": "stream",
     "text": [
      "100%|██████████| 100/100 [00:15<00:00,  6.30it/s]\n"
     ]
    },
    {
     "name": "stdout",
     "output_type": "stream",
     "text": [
      "Moyenne des récompenses: -9.05, Taux de réussite: 5.00%\n",
      "Nouveau modèle sauvegardé: récompense moyenne = -9.05\n",
      "Réduction de la complexité à 0.47, 20x9, 13 walls, 1 towers\n",
      "Groupe d'épisodes 2/50, Complexité: 0.47, 20x9, 13 walls\n"
     ]
    },
    {
     "name": "stderr",
     "output_type": "stream",
     "text": [
      "100%|██████████| 100/100 [00:12<00:00,  7.94it/s]\n"
     ]
    },
    {
     "name": "stdout",
     "output_type": "stream",
     "text": [
      "Moyenne des récompenses: 6.94, Taux de réussite: 82.00%\n",
      "Nouveau modèle sauvegardé: récompense moyenne = 6.94\n",
      "Augmentation de la complexité à 0.52, 20x9, 15 walls, 2 towers\n",
      "Groupe d'épisodes 3/50, Complexité: 0.52, 20x9, 15 walls\n"
     ]
    },
    {
     "name": "stderr",
     "output_type": "stream",
     "text": [
      "100%|██████████| 100/100 [00:11<00:00,  8.70it/s]\n"
     ]
    },
    {
     "name": "stdout",
     "output_type": "stream",
     "text": [
      "Moyenne des récompenses: 9.20, Taux de réussite: 86.00%\n",
      "Nouveau modèle sauvegardé: récompense moyenne = 9.20\n",
      "Augmentation de la complexité à 0.57, 20x9, 17 walls, 3 towers\n",
      "Groupe d'épisodes 4/50, Complexité: 0.57, 20x9, 17 walls\n"
     ]
    },
    {
     "name": "stderr",
     "output_type": "stream",
     "text": [
      "100%|██████████| 100/100 [00:10<00:00,  9.17it/s]\n"
     ]
    },
    {
     "name": "stdout",
     "output_type": "stream",
     "text": [
      "Moyenne des récompenses: 13.33, Taux de réussite: 88.00%\n",
      "Nouveau modèle sauvegardé: récompense moyenne = 13.33\n",
      "Augmentation de la complexité à 0.62, 20x9, 19 walls, 4 towers\n",
      "Groupe d'épisodes 5/50, Complexité: 0.62, 20x9, 19 walls\n"
     ]
    },
    {
     "name": "stderr",
     "output_type": "stream",
     "text": [
      "100%|██████████| 100/100 [00:10<00:00,  9.16it/s]\n"
     ]
    },
    {
     "name": "stdout",
     "output_type": "stream",
     "text": [
      "Moyenne des récompenses: 11.77, Taux de réussite: 79.00%\n",
      "Groupe d'épisodes 6/50, Complexité: 0.62, 20x9, 19 walls\n"
     ]
    },
    {
     "name": "stderr",
     "output_type": "stream",
     "text": [
      "100%|██████████| 100/100 [00:10<00:00,  9.99it/s]\n"
     ]
    },
    {
     "name": "stdout",
     "output_type": "stream",
     "text": [
      "Moyenne des récompenses: 15.95, Taux de réussite: 89.00%\n",
      "Nouveau modèle sauvegardé: récompense moyenne = 15.95\n",
      "Augmentation de la complexité à 0.67, 20x9, 21 walls, 5 towers\n",
      "Groupe d'épisodes 7/50, Complexité: 0.67, 20x9, 21 walls\n"
     ]
    },
    {
     "name": "stderr",
     "output_type": "stream",
     "text": [
      "100%|██████████| 100/100 [00:11<00:00,  8.54it/s]\n"
     ]
    },
    {
     "name": "stdout",
     "output_type": "stream",
     "text": [
      "Moyenne des récompenses: 13.40, Taux de réussite: 79.00%\n",
      "Groupe d'épisodes 8/50, Complexité: 0.67, 20x9, 21 walls\n"
     ]
    },
    {
     "name": "stderr",
     "output_type": "stream",
     "text": [
      "100%|██████████| 100/100 [00:12<00:00,  8.00it/s]\n"
     ]
    },
    {
     "name": "stdout",
     "output_type": "stream",
     "text": [
      "Moyenne des récompenses: 11.88, Taux de réussite: 77.00%\n",
      "Groupe d'épisodes 9/50, Complexité: 0.67, 20x9, 21 walls\n"
     ]
    },
    {
     "name": "stderr",
     "output_type": "stream",
     "text": [
      "100%|██████████| 100/100 [00:12<00:00,  7.87it/s]\n"
     ]
    },
    {
     "name": "stdout",
     "output_type": "stream",
     "text": [
      "Moyenne des récompenses: 9.16, Taux de réussite: 70.00%\n",
      "Groupe d'épisodes 10/50, Complexité: 0.67, 20x9, 21 walls\n"
     ]
    },
    {
     "name": "stderr",
     "output_type": "stream",
     "text": [
      "100%|██████████| 100/100 [00:13<00:00,  7.57it/s]\n"
     ]
    },
    {
     "name": "stdout",
     "output_type": "stream",
     "text": [
      "Moyenne des récompenses: 10.59, Taux de réussite: 68.00%\n",
      "Groupe d'épisodes 11/50, Complexité: 0.67, 20x9, 21 walls\n"
     ]
    },
    {
     "name": "stderr",
     "output_type": "stream",
     "text": [
      "100%|██████████| 100/100 [00:14<00:00,  6.84it/s]\n"
     ]
    },
    {
     "name": "stdout",
     "output_type": "stream",
     "text": [
      "Moyenne des récompenses: 11.22, Taux de réussite: 73.00%\n",
      "Nouveau modèle sauvegardé: récompense moyenne = 11.22\n",
      "Groupe d'épisodes 12/50, Complexité: 0.67, 20x9, 21 walls\n"
     ]
    },
    {
     "name": "stderr",
     "output_type": "stream",
     "text": [
      "100%|██████████| 100/100 [00:14<00:00,  6.89it/s]\n"
     ]
    },
    {
     "name": "stdout",
     "output_type": "stream",
     "text": [
      "Moyenne des récompenses: 12.03, Taux de réussite: 73.00%\n",
      "Groupe d'épisodes 13/50, Complexité: 0.67, 20x9, 21 walls\n"
     ]
    },
    {
     "name": "stderr",
     "output_type": "stream",
     "text": [
      "100%|██████████| 100/100 [00:16<00:00,  6.18it/s]\n"
     ]
    },
    {
     "name": "stdout",
     "output_type": "stream",
     "text": [
      "Moyenne des récompenses: 11.30, Taux de réussite: 69.00%\n",
      "Groupe d'épisodes 14/50, Complexité: 0.67, 20x9, 21 walls\n"
     ]
    },
    {
     "name": "stderr",
     "output_type": "stream",
     "text": [
      "100%|██████████| 100/100 [00:16<00:00,  6.22it/s]\n"
     ]
    },
    {
     "name": "stdout",
     "output_type": "stream",
     "text": [
      "Moyenne des récompenses: 11.20, Taux de réussite: 68.00%\n",
      "Groupe d'épisodes 15/50, Complexité: 0.67, 20x9, 21 walls\n"
     ]
    },
    {
     "name": "stderr",
     "output_type": "stream",
     "text": [
      "100%|██████████| 100/100 [00:18<00:00,  5.52it/s]\n"
     ]
    },
    {
     "name": "stdout",
     "output_type": "stream",
     "text": [
      "Moyenne des récompenses: 9.95, Taux de réussite: 66.00%\n",
      "Groupe d'épisodes 16/50, Complexité: 0.67, 20x9, 21 walls\n"
     ]
    },
    {
     "name": "stderr",
     "output_type": "stream",
     "text": [
      "100%|██████████| 100/100 [00:18<00:00,  5.55it/s]\n"
     ]
    },
    {
     "name": "stdout",
     "output_type": "stream",
     "text": [
      "Moyenne des récompenses: 11.27, Taux de réussite: 68.00%\n",
      "Pas d'amélioration depuis 5 groupes. Réinitialisation partielle...\n",
      "Groupe d'épisodes 17/50, Complexité: 0.57, 20x9, 15 walls\n"
     ]
    },
    {
     "name": "stderr",
     "output_type": "stream",
     "text": [
      "100%|██████████| 100/100 [00:09<00:00, 10.88it/s]\n"
     ]
    },
    {
     "name": "stdout",
     "output_type": "stream",
     "text": [
      "Moyenne des récompenses: 11.83, Taux de réussite: 95.00%\n",
      "Augmentation de la complexité à 0.62, 20x9, 17 walls, 2 towers\n",
      "Groupe d'épisodes 18/50, Complexité: 0.62, 20x9, 17 walls\n"
     ]
    },
    {
     "name": "stderr",
     "output_type": "stream",
     "text": [
      "100%|██████████| 100/100 [00:10<00:00,  9.85it/s]\n"
     ]
    },
    {
     "name": "stdout",
     "output_type": "stream",
     "text": [
      "Moyenne des récompenses: 15.18, Taux de réussite: 92.00%\n",
      "Augmentation de la complexité à 0.67, 20x9, 19 walls, 3 towers\n",
      "Groupe d'épisodes 19/50, Complexité: 0.67, 20x9, 19 walls\n"
     ]
    },
    {
     "name": "stderr",
     "output_type": "stream",
     "text": [
      "100%|██████████| 100/100 [00:18<00:00,  5.51it/s]\n"
     ]
    },
    {
     "name": "stdout",
     "output_type": "stream",
     "text": [
      "Moyenne des récompenses: 9.60, Taux de réussite: 62.00%\n",
      "Groupe d'épisodes 20/50, Complexité: 0.67, 20x9, 19 walls\n"
     ]
    },
    {
     "name": "stderr",
     "output_type": "stream",
     "text": [
      "100%|██████████| 100/100 [00:16<00:00,  6.19it/s]\n"
     ]
    },
    {
     "name": "stdout",
     "output_type": "stream",
     "text": [
      "Moyenne des récompenses: 13.60, Taux de réussite: 72.00%\n",
      "Groupe d'épisodes 21/50, Complexité: 0.67, 20x9, 19 walls\n"
     ]
    },
    {
     "name": "stderr",
     "output_type": "stream",
     "text": [
      "100%|██████████| 100/100 [00:16<00:00,  6.02it/s]\n"
     ]
    },
    {
     "name": "stdout",
     "output_type": "stream",
     "text": [
      "Moyenne des récompenses: 13.81, Taux de réussite: 74.00%\n",
      "Nouveau modèle sauvegardé: récompense moyenne = 13.81\n",
      "Groupe d'épisodes 22/50, Complexité: 0.67, 20x9, 19 walls\n"
     ]
    },
    {
     "name": "stderr",
     "output_type": "stream",
     "text": [
      "100%|██████████| 100/100 [00:16<00:00,  6.11it/s]\n"
     ]
    },
    {
     "name": "stdout",
     "output_type": "stream",
     "text": [
      "Moyenne des récompenses: 14.41, Taux de réussite: 77.00%\n",
      "Groupe d'épisodes 23/50, Complexité: 0.67, 20x9, 19 walls\n"
     ]
    },
    {
     "name": "stderr",
     "output_type": "stream",
     "text": [
      "100%|██████████| 100/100 [00:14<00:00,  7.05it/s]\n"
     ]
    },
    {
     "name": "stdout",
     "output_type": "stream",
     "text": [
      "Moyenne des récompenses: 15.73, Taux de réussite: 84.00%\n",
      "Augmentation de la complexité à 0.72, 20x9, 21 walls, 4 towers\n",
      "Groupe d'épisodes 24/50, Complexité: 0.72, 20x9, 21 walls\n"
     ]
    },
    {
     "name": "stderr",
     "output_type": "stream",
     "text": [
      "100%|██████████| 100/100 [00:19<00:00,  5.01it/s]\n"
     ]
    },
    {
     "name": "stdout",
     "output_type": "stream",
     "text": [
      "Moyenne des récompenses: 10.95, Taux de réussite: 67.00%\n",
      "Groupe d'épisodes 25/50, Complexité: 0.72, 20x9, 21 walls\n"
     ]
    },
    {
     "name": "stderr",
     "output_type": "stream",
     "text": [
      "100%|██████████| 100/100 [00:18<00:00,  5.55it/s]\n"
     ]
    },
    {
     "name": "stdout",
     "output_type": "stream",
     "text": [
      "Moyenne des récompenses: 13.10, Taux de réussite: 75.00%\n",
      "Groupe d'épisodes 26/50, Complexité: 0.72, 20x9, 21 walls\n"
     ]
    },
    {
     "name": "stderr",
     "output_type": "stream",
     "text": [
      "100%|██████████| 100/100 [00:16<00:00,  6.10it/s]\n"
     ]
    },
    {
     "name": "stdout",
     "output_type": "stream",
     "text": [
      "Moyenne des récompenses: 14.27, Taux de réussite: 79.00%\n",
      "Pas d'amélioration depuis 5 groupes. Réinitialisation partielle...\n",
      "Groupe d'épisodes 27/50, Complexité: 0.62, 20x9, 15 walls\n"
     ]
    },
    {
     "name": "stderr",
     "output_type": "stream",
     "text": [
      "100%|██████████| 100/100 [00:10<00:00,  9.22it/s]\n"
     ]
    },
    {
     "name": "stdout",
     "output_type": "stream",
     "text": [
      "Moyenne des récompenses: 11.63, Taux de réussite: 95.00%\n",
      "Augmentation de la complexité à 0.67, 20x9, 17 walls, 2 towers\n",
      "Groupe d'épisodes 28/50, Complexité: 0.67, 20x9, 17 walls\n"
     ]
    },
    {
     "name": "stderr",
     "output_type": "stream",
     "text": [
      "100%|██████████| 100/100 [00:11<00:00,  8.66it/s]\n"
     ]
    },
    {
     "name": "stdout",
     "output_type": "stream",
     "text": [
      "Moyenne des récompenses: 15.69, Taux de réussite: 93.00%\n",
      "Augmentation de la complexité à 0.72, 20x9, 19 walls, 3 towers\n",
      "Groupe d'épisodes 29/50, Complexité: 0.72, 20x9, 19 walls\n"
     ]
    },
    {
     "name": "stderr",
     "output_type": "stream",
     "text": [
      "100%|██████████| 100/100 [00:18<00:00,  5.39it/s]\n"
     ]
    },
    {
     "name": "stdout",
     "output_type": "stream",
     "text": [
      "Moyenne des récompenses: 12.02, Taux de réussite: 69.00%\n",
      "Groupe d'épisodes 30/50, Complexité: 0.72, 20x9, 19 walls\n"
     ]
    },
    {
     "name": "stderr",
     "output_type": "stream",
     "text": [
      "100%|██████████| 100/100 [00:18<00:00,  5.37it/s]\n"
     ]
    },
    {
     "name": "stdout",
     "output_type": "stream",
     "text": [
      "Moyenne des récompenses: 11.21, Taux de réussite: 70.00%\n",
      "Groupe d'épisodes 31/50, Complexité: 0.72, 20x9, 19 walls\n"
     ]
    },
    {
     "name": "stderr",
     "output_type": "stream",
     "text": [
      "100%|██████████| 100/100 [00:15<00:00,  6.27it/s]\n"
     ]
    },
    {
     "name": "stdout",
     "output_type": "stream",
     "text": [
      "Moyenne des récompenses: 16.00, Taux de réussite: 82.00%\n",
      "Nouveau modèle sauvegardé: récompense moyenne = 16.00\n",
      "Augmentation de la complexité à 0.77, 20x9, 21 walls, 4 towers\n",
      "Groupe d'épisodes 32/50, Complexité: 0.77, 20x9, 21 walls\n"
     ]
    },
    {
     "name": "stderr",
     "output_type": "stream",
     "text": [
      "100%|██████████| 100/100 [00:20<00:00,  4.80it/s]\n"
     ]
    },
    {
     "name": "stdout",
     "output_type": "stream",
     "text": [
      "Moyenne des récompenses: 10.82, Taux de réussite: 67.00%\n",
      "Groupe d'épisodes 33/50, Complexité: 0.77, 20x9, 21 walls\n"
     ]
    },
    {
     "name": "stderr",
     "output_type": "stream",
     "text": [
      "100%|██████████| 100/100 [00:22<00:00,  4.40it/s]\n"
     ]
    },
    {
     "name": "stdout",
     "output_type": "stream",
     "text": [
      "Moyenne des récompenses: 9.70, Taux de réussite: 63.00%\n",
      "Groupe d'épisodes 34/50, Complexité: 0.77, 20x9, 21 walls\n"
     ]
    },
    {
     "name": "stderr",
     "output_type": "stream",
     "text": [
      "100%|██████████| 100/100 [00:23<00:00,  4.17it/s]\n"
     ]
    },
    {
     "name": "stdout",
     "output_type": "stream",
     "text": [
      "Moyenne des récompenses: 8.20, Taux de réussite: 56.00%\n",
      "Groupe d'épisodes 35/50, Complexité: 0.77, 20x9, 21 walls\n"
     ]
    },
    {
     "name": "stderr",
     "output_type": "stream",
     "text": [
      "100%|██████████| 100/100 [00:23<00:00,  4.19it/s]\n"
     ]
    },
    {
     "name": "stdout",
     "output_type": "stream",
     "text": [
      "Moyenne des récompenses: 10.07, Taux de réussite: 60.00%\n",
      "Groupe d'épisodes 36/50, Complexité: 0.77, 20x9, 21 walls\n"
     ]
    },
    {
     "name": "stderr",
     "output_type": "stream",
     "text": [
      "100%|██████████| 100/100 [00:22<00:00,  4.39it/s]\n"
     ]
    },
    {
     "name": "stdout",
     "output_type": "stream",
     "text": [
      "Moyenne des récompenses: 10.10, Taux de réussite: 65.00%\n",
      "Pas d'amélioration depuis 5 groupes. Réinitialisation partielle...\n",
      "Groupe d'épisodes 37/50, Complexité: 0.67, 20x9, 15 walls\n"
     ]
    },
    {
     "name": "stderr",
     "output_type": "stream",
     "text": [
      "100%|██████████| 100/100 [00:11<00:00,  8.77it/s]\n"
     ]
    },
    {
     "name": "stdout",
     "output_type": "stream",
     "text": [
      "Moyenne des récompenses: 12.24, Taux de réussite: 97.00%\n",
      "Augmentation de la complexité à 0.72, 20x9, 17 walls, 2 towers\n",
      "Groupe d'épisodes 38/50, Complexité: 0.72, 20x9, 17 walls\n"
     ]
    },
    {
     "name": "stderr",
     "output_type": "stream",
     "text": [
      "100%|██████████| 100/100 [00:17<00:00,  5.83it/s]\n"
     ]
    },
    {
     "name": "stdout",
     "output_type": "stream",
     "text": [
      "Moyenne des récompenses: 12.59, Taux de réussite: 82.00%\n",
      "Augmentation de la complexité à 0.77, 20x9, 19 walls, 3 towers\n",
      "Groupe d'épisodes 39/50, Complexité: 0.77, 20x9, 19 walls\n"
     ]
    },
    {
     "name": "stderr",
     "output_type": "stream",
     "text": [
      "100%|██████████| 100/100 [00:23<00:00,  4.34it/s]\n"
     ]
    },
    {
     "name": "stdout",
     "output_type": "stream",
     "text": [
      "Moyenne des récompenses: 11.12, Taux de réussite: 64.00%\n",
      "Groupe d'épisodes 40/50, Complexité: 0.77, 20x9, 19 walls\n"
     ]
    },
    {
     "name": "stderr",
     "output_type": "stream",
     "text": [
      "100%|██████████| 100/100 [00:19<00:00,  5.04it/s]\n"
     ]
    },
    {
     "name": "stdout",
     "output_type": "stream",
     "text": [
      "Moyenne des récompenses: 12.54, Taux de réussite: 74.00%\n",
      "Groupe d'épisodes 41/50, Complexité: 0.77, 20x9, 19 walls\n"
     ]
    },
    {
     "name": "stderr",
     "output_type": "stream",
     "text": [
      "100%|██████████| 100/100 [00:20<00:00,  4.95it/s]\n"
     ]
    },
    {
     "name": "stdout",
     "output_type": "stream",
     "text": [
      "Moyenne des récompenses: 14.47, Taux de réussite: 76.00%\n",
      "Nouveau modèle sauvegardé: récompense moyenne = 14.47\n",
      "Groupe d'épisodes 42/50, Complexité: 0.77, 20x9, 19 walls\n"
     ]
    },
    {
     "name": "stderr",
     "output_type": "stream",
     "text": [
      "100%|██████████| 100/100 [00:21<00:00,  4.65it/s]\n"
     ]
    },
    {
     "name": "stdout",
     "output_type": "stream",
     "text": [
      "Moyenne des récompenses: 12.39, Taux de réussite: 71.00%\n",
      "Groupe d'épisodes 43/50, Complexité: 0.77, 20x9, 19 walls\n"
     ]
    },
    {
     "name": "stderr",
     "output_type": "stream",
     "text": [
      "100%|██████████| 100/100 [00:19<00:00,  5.06it/s]\n"
     ]
    },
    {
     "name": "stdout",
     "output_type": "stream",
     "text": [
      "Moyenne des récompenses: 13.82, Taux de réussite: 75.00%\n",
      "Groupe d'épisodes 44/50, Complexité: 0.77, 20x9, 19 walls\n"
     ]
    },
    {
     "name": "stderr",
     "output_type": "stream",
     "text": [
      "100%|██████████| 100/100 [00:20<00:00,  4.85it/s]\n"
     ]
    },
    {
     "name": "stdout",
     "output_type": "stream",
     "text": [
      "Moyenne des récompenses: 14.40, Taux de réussite: 72.00%\n",
      "Groupe d'épisodes 45/50, Complexité: 0.77, 20x9, 19 walls\n"
     ]
    },
    {
     "name": "stderr",
     "output_type": "stream",
     "text": [
      "100%|██████████| 100/100 [00:20<00:00,  4.79it/s]\n"
     ]
    },
    {
     "name": "stdout",
     "output_type": "stream",
     "text": [
      "Moyenne des récompenses: 11.86, Taux de réussite: 70.00%\n",
      "Groupe d'épisodes 46/50, Complexité: 0.77, 20x9, 19 walls\n"
     ]
    },
    {
     "name": "stderr",
     "output_type": "stream",
     "text": [
      "100%|██████████| 100/100 [00:20<00:00,  4.84it/s]\n"
     ]
    },
    {
     "name": "stdout",
     "output_type": "stream",
     "text": [
      "Moyenne des récompenses: 13.26, Taux de réussite: 72.00%\n",
      "Pas d'amélioration depuis 5 groupes. Réinitialisation partielle...\n",
      "Groupe d'épisodes 47/50, Complexité: 0.67, 20x9, 15 walls\n"
     ]
    },
    {
     "name": "stderr",
     "output_type": "stream",
     "text": [
      "100%|██████████| 100/100 [00:12<00:00,  7.81it/s]\n"
     ]
    },
    {
     "name": "stdout",
     "output_type": "stream",
     "text": [
      "Moyenne des récompenses: 12.17, Taux de réussite: 94.00%\n",
      "Augmentation de la complexité à 0.72, 20x9, 17 walls, 2 towers\n",
      "Groupe d'épisodes 48/50, Complexité: 0.72, 20x9, 17 walls\n"
     ]
    },
    {
     "name": "stderr",
     "output_type": "stream",
     "text": [
      "100%|██████████| 100/100 [00:15<00:00,  6.35it/s]\n"
     ]
    },
    {
     "name": "stdout",
     "output_type": "stream",
     "text": [
      "Moyenne des récompenses: 12.72, Taux de réussite: 84.00%\n",
      "Augmentation de la complexité à 0.77, 20x9, 19 walls, 3 towers\n",
      "Groupe d'épisodes 49/50, Complexité: 0.77, 20x9, 19 walls\n"
     ]
    },
    {
     "name": "stderr",
     "output_type": "stream",
     "text": [
      "100%|██████████| 100/100 [00:23<00:00,  4.30it/s]\n"
     ]
    },
    {
     "name": "stdout",
     "output_type": "stream",
     "text": [
      "Moyenne des récompenses: 10.33, Taux de réussite: 63.00%\n",
      "Groupe d'épisodes 50/50, Complexité: 0.77, 20x9, 19 walls\n"
     ]
    },
    {
     "name": "stderr",
     "output_type": "stream",
     "text": [
      "100%|██████████| 100/100 [00:22<00:00,  4.45it/s]"
     ]
    },
    {
     "name": "stdout",
     "output_type": "stream",
     "text": [
      "Moyenne des récompenses: 11.07, Taux de réussite: 65.00%\n"
     ]
    },
    {
     "name": "stderr",
     "output_type": "stream",
     "text": [
      "\n"
     ]
    }
   ],
   "source": [
    "if __name__ == \"__main__\":\n",
    "\n",
    "    np.random.seed(42)\n",
    "    random.seed(42)\n",
    "    torch.manual_seed(42)\n",
    "    \n",
    "    env_params = {\n",
    "        'rows': 20,\n",
    "        'cols': 9,\n",
    "        'num_walls': 15,\n",
    "        'tower_penalty': -0.0, \n",
    "        'tower_timer': 999,\n",
    "        'retour':False,\n",
    "        'broken':True, \n",
    "        'tower_destroy_reward':5.5,\n",
    "        'num_towers':1\n",
    "    }\n",
    "    \n",
    "    sample_env = create_random_env(**env_params)\n",
    "    state_size = len(sample_env.get_state_representation())\n",
    "    action_size = 5 \n",
    "    \n",
    "    print(f\"Taille de l'état: {state_size}, Nombre d'actions: {action_size}\")\n",
    "    print(\"Exemple d'environnement:\")\n",
    "    visualize_env(sample_env)\n",
    "    \n",
    "    agent = DQNAgent(state_size, action_size, hidden_sizes=[128, 128], lr=0.0003)\n",
    "    \n",
    "    print(\"\\nDébut de l'entraînement avec curriculum learning...\")\n",
    "    num_episodes = 5000  \n",
    "    rewards_history = train_dqn_agent_curriculum(env_params, agent, num_episodes)"
   ]
  },
  {
   "cell_type": "code",
   "execution_count": null,
   "metadata": {
    "execution": {
     "iopub.execute_input": "2025-05-02T09:24:36.967888Z",
     "iopub.status.busy": "2025-05-02T09:24:36.967312Z",
     "iopub.status.idle": "2025-05-02T09:24:43.333503Z",
     "shell.execute_reply": "2025-05-02T09:24:43.332563Z",
     "shell.execute_reply.started": "2025-05-02T09:24:36.967867Z"
    },
    "trusted": true
   },
   "outputs": [
    {
     "name": "stdout",
     "output_type": "stream",
     "text": [
      "\n",
      "Test sur un labyrinthe simple:\n",
      "Test sur un nouveau labyrinthe 20x9 avec 14 murs:\n"
     ]
    },
    {
     "data": {
      "image/png": "[encoded data removed]",
      "text/plain": [
       "<Figure size 600x600 with 1 Axes>"
      ]
     },
     "metadata": {},
     "output_type": "display_data"
    },
    {
     "name": "stdout",
     "output_type": "stream",
     "text": [
      "Agent a réussi en 21 pas avec une récompense de 16.23\n",
      "Moviepy - Building video dqn_maze_20x9.mp4.\n",
      "Moviepy - Writing video dqn_maze_20x9.mp4\n",
      "\n"
     ]
    },
    {
     "name": "stderr",
     "output_type": "stream",
     "text": [
      "                                                            \r"
     ]
    },
    {
     "name": "stdout",
     "output_type": "stream",
     "text": [
      "Moviepy - Done !\n",
      "Moviepy - video ready dqn_maze_20x9.mp4\n"
     ]
    },
    {
     "data": {
      "text/html": [
       "\n",
       "    <video width=\"500\" height=\"500\" controls>\n",
       "        <source src=\"dqn_maze_20x9.mp4\" type=\"video/mp4\">\n",
       "    </video>\n",
       "    "
      ],
      "text/plain": [
       "<IPython.core.display.HTML object>"
      ]
     },
     "execution_count": 48,
     "metadata": {},
     "output_type": "execute_result"
    }
   ],
   "source": [
    "print(\"\\nTest sur un labyrinthe simple:\")\n",
    "_, _, _, video = test_agent_on_new_maze(agent, rows=20, cols=9, num_walls=5, complexity=1.0, tower_penalty=-0.0, tower_timer=999, num_towers=3, retour=False, seed=3, broken=True, tower_destroy_reward=5.5)\n",
    "video"
   ]
  },
  {
   "cell_type": "code",
   "execution_count": null,
   "metadata": {
    "execution": {
     "iopub.execute_input": "2025-05-02T09:24:43.334684Z",
     "iopub.status.busy": "2025-05-02T09:24:43.334351Z",
     "iopub.status.idle": "2025-05-02T09:24:43.361667Z",
     "shell.execute_reply": "2025-05-02T09:24:43.360691Z",
     "shell.execute_reply.started": "2025-05-02T09:24:43.334654Z"
    },
    "trusted": true
   },
   "outputs": [
    {
     "name": "stdout",
     "output_type": "stream",
     "text": [
      "Modèle exporté avec succès dans dqn_break.onnx\n",
      "Vérification du modèle ONNX réussie!\n"
     ]
    }
   ],
   "source": [
    "export_model_to_onnx(agent, \"dqn_break.onnx\")\n",
    "\n",
    "torch.save({\n",
    "    'state_dict': agent.policy_net.state_dict(),\n",
    "    'optimizer': agent.optimizer.state_dict(),\n",
    "    'state_size': agent.state_size,\n",
    "    'action_size': agent.action_size,\n",
    "    'hidden_sizes': [128, 128]\n",
    "}, \"dqn_break.pt\")"
   ]
  }
 ],
 "metadata": {
  "kaggle": {
   "accelerator": "none",
   "dataSources": [],
   "dockerImageVersionId": 31012,
   "isGpuEnabled": false,
   "isInternetEnabled": true,
   "language": "python",
   "sourceType": "notebook"
  },
  "kernelspec": {
   "display_name": "Python 3",
   "language": "python",
   "name": "python3"
  },
  "language_info": {
   "codemirror_mode": {
    "name": "ipython",
    "version": 3
   },
   "file_extension": ".py",
   "mimetype": "text/x-python",
   "name": "python",
   "nbconvert_exporter": "python",
   "pygments_lexer": "ipython3",
   "version": "3.11.11"
  }
 },
 "nbformat": 4,
 "nbformat_minor": 4
}
